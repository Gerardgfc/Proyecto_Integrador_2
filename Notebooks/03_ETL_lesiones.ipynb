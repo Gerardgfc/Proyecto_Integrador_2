{
 "cells": [
  {
   "cell_type": "markdown",
   "metadata": {},
   "source": [
    "# ETL del dataset lesiones\n",
    "Importación de librerías "
   ]
  },
  {
   "cell_type": "code",
   "execution_count": 80,
   "metadata": {},
   "outputs": [],
   "source": [
    "import pandas as pd\n",
    "import numpy as np"
   ]
  },
  {
   "cell_type": "markdown",
   "metadata": {},
   "source": [
    "## Lesiones hechos"
   ]
  },
  {
   "cell_type": "markdown",
   "metadata": {},
   "source": [
    "Carga del dataset"
   ]
  },
  {
   "cell_type": "code",
   "execution_count": 81,
   "metadata": {},
   "outputs": [],
   "source": [
    "df_hechos = pd.read_excel('../Data/lesiones.xlsx', sheet_name = 'HECHOS', na_values=['SD','sd'])"
   ]
  },
  {
   "cell_type": "markdown",
   "metadata": {},
   "source": [
    "Visualización de las primeras 5 filas"
   ]
  },
  {
   "cell_type": "code",
   "execution_count": 82,
   "metadata": {},
   "outputs": [
    {
     "data": {
      "text/html": [
       "<div>\n",
       "<style scoped>\n",
       "    .dataframe tbody tr th:only-of-type {\n",
       "        vertical-align: middle;\n",
       "    }\n",
       "\n",
       "    .dataframe tbody tr th {\n",
       "        vertical-align: top;\n",
       "    }\n",
       "\n",
       "    .dataframe thead th {\n",
       "        text-align: right;\n",
       "    }\n",
       "</style>\n",
       "<table border=\"1\" class=\"dataframe\">\n",
       "  <thead>\n",
       "    <tr style=\"text-align: right;\">\n",
       "      <th></th>\n",
       "      <th>id</th>\n",
       "      <th>n_victimas</th>\n",
       "      <th>aaaa</th>\n",
       "      <th>mm</th>\n",
       "      <th>dd</th>\n",
       "      <th>fecha</th>\n",
       "      <th>hora</th>\n",
       "      <th>franja_hora</th>\n",
       "      <th>direccion_normalizada</th>\n",
       "      <th>comuna</th>\n",
       "      <th>...</th>\n",
       "      <th>latutid</th>\n",
       "      <th>victima</th>\n",
       "      <th>acusado</th>\n",
       "      <th>participantes</th>\n",
       "      <th>moto</th>\n",
       "      <th>auto</th>\n",
       "      <th>transporte_publico</th>\n",
       "      <th>camion</th>\n",
       "      <th>ciclista</th>\n",
       "      <th>gravedad</th>\n",
       "    </tr>\n",
       "  </thead>\n",
       "  <tbody>\n",
       "    <tr>\n",
       "      <th>0</th>\n",
       "      <td>LC-2019-0000179</td>\n",
       "      <td>1</td>\n",
       "      <td>2019</td>\n",
       "      <td>1</td>\n",
       "      <td>1</td>\n",
       "      <td>2019-01-01 00:00:00</td>\n",
       "      <td>09:00:00</td>\n",
       "      <td>9.0</td>\n",
       "      <td>NaN</td>\n",
       "      <td>14</td>\n",
       "      <td>...</td>\n",
       "      <td>-34.559658</td>\n",
       "      <td>CICLISTA</td>\n",
       "      <td>NaN</td>\n",
       "      <td>CICLISTA-SD</td>\n",
       "      <td>NaN</td>\n",
       "      <td>NaN</td>\n",
       "      <td>NaN</td>\n",
       "      <td>NaN</td>\n",
       "      <td>x</td>\n",
       "      <td>NaN</td>\n",
       "    </tr>\n",
       "    <tr>\n",
       "      <th>1</th>\n",
       "      <td>LC-2019-0000053</td>\n",
       "      <td>1</td>\n",
       "      <td>2019</td>\n",
       "      <td>1</td>\n",
       "      <td>1</td>\n",
       "      <td>2019-01-01 00:00:00</td>\n",
       "      <td>01:55:00</td>\n",
       "      <td>1.0</td>\n",
       "      <td>NaN</td>\n",
       "      <td>8</td>\n",
       "      <td>...</td>\n",
       "      <td>-34.669125</td>\n",
       "      <td>AUTO</td>\n",
       "      <td>NaN</td>\n",
       "      <td>AUTO-SD</td>\n",
       "      <td>NaN</td>\n",
       "      <td>x</td>\n",
       "      <td>NaN</td>\n",
       "      <td>NaN</td>\n",
       "      <td>NaN</td>\n",
       "      <td>NaN</td>\n",
       "    </tr>\n",
       "    <tr>\n",
       "      <th>2</th>\n",
       "      <td>LC-2019-0000063</td>\n",
       "      <td>1</td>\n",
       "      <td>2019</td>\n",
       "      <td>1</td>\n",
       "      <td>1</td>\n",
       "      <td>2019-01-01 00:00:00</td>\n",
       "      <td>02:00:00</td>\n",
       "      <td>2.0</td>\n",
       "      <td>NaN</td>\n",
       "      <td>8</td>\n",
       "      <td>...</td>\n",
       "      <td>-34.677556</td>\n",
       "      <td>NaN</td>\n",
       "      <td>NaN</td>\n",
       "      <td>SD-SD</td>\n",
       "      <td>NaN</td>\n",
       "      <td>NaN</td>\n",
       "      <td>NaN</td>\n",
       "      <td>NaN</td>\n",
       "      <td>NaN</td>\n",
       "      <td>NaN</td>\n",
       "    </tr>\n",
       "    <tr>\n",
       "      <th>3</th>\n",
       "      <td>LC-2019-0000079</td>\n",
       "      <td>1</td>\n",
       "      <td>2019</td>\n",
       "      <td>1</td>\n",
       "      <td>1</td>\n",
       "      <td>2019-01-01 00:00:00</td>\n",
       "      <td>02:30:00</td>\n",
       "      <td>2.0</td>\n",
       "      <td>NaN</td>\n",
       "      <td>7</td>\n",
       "      <td>...</td>\n",
       "      <td>-34.647349</td>\n",
       "      <td>PEATON</td>\n",
       "      <td>NaN</td>\n",
       "      <td>PEATON-SD</td>\n",
       "      <td>x</td>\n",
       "      <td>NaN</td>\n",
       "      <td>NaN</td>\n",
       "      <td>NaN</td>\n",
       "      <td>NaN</td>\n",
       "      <td>NaN</td>\n",
       "    </tr>\n",
       "    <tr>\n",
       "      <th>4</th>\n",
       "      <td>LC-2019-0000082</td>\n",
       "      <td>4</td>\n",
       "      <td>2019</td>\n",
       "      <td>1</td>\n",
       "      <td>1</td>\n",
       "      <td>2019-01-01 00:00:00</td>\n",
       "      <td>04:30:00</td>\n",
       "      <td>4.0</td>\n",
       "      <td>NaN</td>\n",
       "      <td>3</td>\n",
       "      <td>...</td>\n",
       "      <td>-34.604579</td>\n",
       "      <td>AUTO</td>\n",
       "      <td>NaN</td>\n",
       "      <td>AUTO-SD</td>\n",
       "      <td>NaN</td>\n",
       "      <td>NaN</td>\n",
       "      <td>x</td>\n",
       "      <td>NaN</td>\n",
       "      <td>NaN</td>\n",
       "      <td>NaN</td>\n",
       "    </tr>\n",
       "  </tbody>\n",
       "</table>\n",
       "<p>5 rows × 27 columns</p>\n",
       "</div>"
      ],
      "text/plain": [
       "                id  n_victimas  aaaa  mm  dd                fecha      hora  \\\n",
       "0  LC-2019-0000179           1  2019   1   1  2019-01-01 00:00:00  09:00:00   \n",
       "1  LC-2019-0000053           1  2019   1   1  2019-01-01 00:00:00  01:55:00   \n",
       "2  LC-2019-0000063           1  2019   1   1  2019-01-01 00:00:00  02:00:00   \n",
       "3  LC-2019-0000079           1  2019   1   1  2019-01-01 00:00:00  02:30:00   \n",
       "4  LC-2019-0000082           4  2019   1   1  2019-01-01 00:00:00  04:30:00   \n",
       "\n",
       "   franja_hora direccion_normalizada comuna  ...    latutid   victima acusado  \\\n",
       "0          9.0                   NaN     14  ... -34.559658  CICLISTA     NaN   \n",
       "1          1.0                   NaN      8  ... -34.669125      AUTO     NaN   \n",
       "2          2.0                   NaN      8  ... -34.677556       NaN     NaN   \n",
       "3          2.0                   NaN      7  ... -34.647349    PEATON     NaN   \n",
       "4          4.0                   NaN      3  ... -34.604579      AUTO     NaN   \n",
       "\n",
       "   participantes moto auto  transporte_publico  camion ciclista gravedad  \n",
       "0    CICLISTA-SD  NaN  NaN                 NaN     NaN        x      NaN  \n",
       "1        AUTO-SD  NaN    x                 NaN     NaN      NaN      NaN  \n",
       "2          SD-SD  NaN  NaN                 NaN     NaN      NaN      NaN  \n",
       "3      PEATON-SD    x  NaN                 NaN     NaN      NaN      NaN  \n",
       "4        AUTO-SD  NaN  NaN                   x     NaN      NaN      NaN  \n",
       "\n",
       "[5 rows x 27 columns]"
      ]
     },
     "execution_count": 82,
     "metadata": {},
     "output_type": "execute_result"
    }
   ],
   "source": [
    "df_hechos.head()"
   ]
  },
  {
   "cell_type": "markdown",
   "metadata": {},
   "source": [
    "Información de las columnas del dataset"
   ]
  },
  {
   "cell_type": "code",
   "execution_count": 83,
   "metadata": {},
   "outputs": [
    {
     "name": "stdout",
     "output_type": "stream",
     "text": [
      "<class 'pandas.core.frame.DataFrame'>\n",
      "RangeIndex: 23785 entries, 0 to 23784\n",
      "Data columns (total 27 columns):\n",
      " #   Column                 Non-Null Count  Dtype  \n",
      "---  ------                 --------------  -----  \n",
      " 0   id                     23785 non-null  object \n",
      " 1   n_victimas             23785 non-null  int64  \n",
      " 2   aaaa                   23785 non-null  int64  \n",
      " 3   mm                     23785 non-null  int64  \n",
      " 4   dd                     23785 non-null  int64  \n",
      " 5   fecha                  23785 non-null  object \n",
      " 6   hora                   23776 non-null  object \n",
      " 7   franja_hora            23776 non-null  float64\n",
      " 8   direccion_normalizada  12917 non-null  object \n",
      " 9   comuna                 22770 non-null  object \n",
      " 10  tipo_calle             12740 non-null  object \n",
      " 11  otra_direccion         5490 non-null   object \n",
      " 12  calle                  12867 non-null  object \n",
      " 13  altura                 12771 non-null  float64\n",
      " 14  cruce                  9407 non-null   object \n",
      " 15  geocodificacion_CABA   22533 non-null  object \n",
      " 16  longitud               22314 non-null  float64\n",
      " 17  latutid                22314 non-null  float64\n",
      " 18  victima                13052 non-null  object \n",
      " 19  acusado                8497 non-null   object \n",
      " 20  participantes          23785 non-null  object \n",
      " 21  moto                   15181 non-null  object \n",
      " 22  auto                   11149 non-null  object \n",
      " 23  transporte_publico     11891 non-null  object \n",
      " 24  camion                 10984 non-null  object \n",
      " 25  ciclista               12339 non-null  object \n",
      " 26  gravedad               646 non-null    object \n",
      "dtypes: float64(4), int64(4), object(19)\n",
      "memory usage: 4.9+ MB\n"
     ]
    }
   ],
   "source": [
    "df_hechos.info()"
   ]
  },
  {
   "cell_type": "markdown",
   "metadata": {},
   "source": [
    "#### Elimino columnas innecesarias"
   ]
  },
  {
   "cell_type": "markdown",
   "metadata": {},
   "source": [
    "\n",
    "Luego de analizar las columnas se determino que: \n",
    "* Las columnas `aaaa`,`mm`,`dd` hacen referencia a la información de la columna `fecha`\n",
    "* La columna `hora` hacen referencia a la información de la columna `franja_hora`\n",
    "* Las columnas `direccion_normalizada`, `otra_direccion` ,`calle`, `altura`, `cruce`  y `geocodificacion_CABA` ya que con usar las columnas `longitud` y `latitud` respectiva del accidente\n",
    "* Las columnas `moto`,`auto`,`transporte_publico`,`camion`,`ciclista`,`participante` hacen referencia a la información de la columna `victima` y `acusado`"
   ]
  },
  {
   "cell_type": "code",
   "execution_count": 84,
   "metadata": {},
   "outputs": [],
   "source": [
    "df_hechos.drop(columns=['aaaa','mm','dd','hora','direccion_normalizada','otra_direccion','calle','altura','cruce','geocodificacion_CABA','moto','auto','transporte_publico','camion','ciclista','participantes'],inplace=True)"
   ]
  },
  {
   "cell_type": "markdown",
   "metadata": {},
   "source": [
    "#### Valores nulos\n"
   ]
  },
  {
   "cell_type": "markdown",
   "metadata": {},
   "source": [
    "Conteo de nulos"
   ]
  },
  {
   "cell_type": "code",
   "execution_count": 85,
   "metadata": {},
   "outputs": [
    {
     "data": {
      "text/plain": [
       "id                 0\n",
       "n_victimas         0\n",
       "fecha              0\n",
       "franja_hora        9\n",
       "comuna          1015\n",
       "tipo_calle     11045\n",
       "longitud        1471\n",
       "latutid         1471\n",
       "victima        10733\n",
       "acusado        15288\n",
       "gravedad       23139\n",
       "dtype: int64"
      ]
     },
     "execution_count": 85,
     "metadata": {},
     "output_type": "execute_result"
    }
   ],
   "source": [
    "df_hechos.isnull().sum()"
   ]
  },
  {
   "cell_type": "markdown",
   "metadata": {},
   "source": [
    "Extraigo varias muestras de forma aleatoria para verificar otro tipo de nulos"
   ]
  },
  {
   "cell_type": "code",
   "execution_count": 86,
   "metadata": {},
   "outputs": [
    {
     "data": {
      "text/html": [
       "<div>\n",
       "<style scoped>\n",
       "    .dataframe tbody tr th:only-of-type {\n",
       "        vertical-align: middle;\n",
       "    }\n",
       "\n",
       "    .dataframe tbody tr th {\n",
       "        vertical-align: top;\n",
       "    }\n",
       "\n",
       "    .dataframe thead th {\n",
       "        text-align: right;\n",
       "    }\n",
       "</style>\n",
       "<table border=\"1\" class=\"dataframe\">\n",
       "  <thead>\n",
       "    <tr style=\"text-align: right;\">\n",
       "      <th></th>\n",
       "      <th>id</th>\n",
       "      <th>n_victimas</th>\n",
       "      <th>fecha</th>\n",
       "      <th>franja_hora</th>\n",
       "      <th>comuna</th>\n",
       "      <th>tipo_calle</th>\n",
       "      <th>longitud</th>\n",
       "      <th>latutid</th>\n",
       "      <th>victima</th>\n",
       "      <th>acusado</th>\n",
       "      <th>gravedad</th>\n",
       "    </tr>\n",
       "  </thead>\n",
       "  <tbody>\n",
       "    <tr>\n",
       "      <th>983</th>\n",
       "      <td>LC-2019-0086214</td>\n",
       "      <td>1</td>\n",
       "      <td>2019-02-10 00:00:00</td>\n",
       "      <td>1.0</td>\n",
       "      <td>No Especificada</td>\n",
       "      <td>NaN</td>\n",
       "      <td>NaN</td>\n",
       "      <td>NaN</td>\n",
       "      <td>NaN</td>\n",
       "      <td>NaN</td>\n",
       "      <td>NaN</td>\n",
       "    </tr>\n",
       "    <tr>\n",
       "      <th>3768</th>\n",
       "      <td>LC-2019-0291316</td>\n",
       "      <td>1</td>\n",
       "      <td>2019-05-10 00:00:00</td>\n",
       "      <td>7.0</td>\n",
       "      <td>12</td>\n",
       "      <td>NaN</td>\n",
       "      <td>-58.474902</td>\n",
       "      <td>-34.545690</td>\n",
       "      <td>NaN</td>\n",
       "      <td>NaN</td>\n",
       "      <td>NaN</td>\n",
       "    </tr>\n",
       "    <tr>\n",
       "      <th>10669</th>\n",
       "      <td>LC-2020-0595200</td>\n",
       "      <td>2</td>\n",
       "      <td>2020-11-03 00:00:00</td>\n",
       "      <td>15.0</td>\n",
       "      <td>1</td>\n",
       "      <td>AVENIDA</td>\n",
       "      <td>-58.366456</td>\n",
       "      <td>-34.618119</td>\n",
       "      <td>CICLISTA</td>\n",
       "      <td>NaN</td>\n",
       "      <td>NaN</td>\n",
       "    </tr>\n",
       "    <tr>\n",
       "      <th>5301</th>\n",
       "      <td>LC-2019-0401653</td>\n",
       "      <td>1</td>\n",
       "      <td>2019-06-28 00:00:00</td>\n",
       "      <td>11.0</td>\n",
       "      <td>5</td>\n",
       "      <td>NaN</td>\n",
       "      <td>-58.414897</td>\n",
       "      <td>-34.637176</td>\n",
       "      <td>NaN</td>\n",
       "      <td>NaN</td>\n",
       "      <td>NaN</td>\n",
       "    </tr>\n",
       "    <tr>\n",
       "      <th>10113</th>\n",
       "      <td>LC-2020-0031929</td>\n",
       "      <td>1</td>\n",
       "      <td>2020-01-15 00:00:00</td>\n",
       "      <td>19.0</td>\n",
       "      <td>12</td>\n",
       "      <td>AVENIDA</td>\n",
       "      <td>-58.506262</td>\n",
       "      <td>-34.568242</td>\n",
       "      <td>CICLISTA</td>\n",
       "      <td>AUTO</td>\n",
       "      <td>NaN</td>\n",
       "    </tr>\n",
       "    <tr>\n",
       "      <th>12589</th>\n",
       "      <td>LC-2020-0202829</td>\n",
       "      <td>1</td>\n",
       "      <td>2020-04-19 00:00:00</td>\n",
       "      <td>0.0</td>\n",
       "      <td>4</td>\n",
       "      <td>CALLE</td>\n",
       "      <td>-58.366344</td>\n",
       "      <td>-34.638775</td>\n",
       "      <td>MOVIL</td>\n",
       "      <td>NaN</td>\n",
       "      <td>GRAVE</td>\n",
       "    </tr>\n",
       "    <tr>\n",
       "      <th>15437</th>\n",
       "      <td>LC-2020-0641333</td>\n",
       "      <td>1</td>\n",
       "      <td>2020-12-03 00:00:00</td>\n",
       "      <td>8.0</td>\n",
       "      <td>3</td>\n",
       "      <td>CALLE</td>\n",
       "      <td>-58.410252</td>\n",
       "      <td>-34.603167</td>\n",
       "      <td>NaN</td>\n",
       "      <td>NaN</td>\n",
       "      <td>NaN</td>\n",
       "    </tr>\n",
       "    <tr>\n",
       "      <th>18289</th>\n",
       "      <td>LC-2021-0133217</td>\n",
       "      <td>1</td>\n",
       "      <td>2021-03-23 00:00:00</td>\n",
       "      <td>17.0</td>\n",
       "      <td>12</td>\n",
       "      <td>AVENIDA</td>\n",
       "      <td>-58.492643</td>\n",
       "      <td>-34.569119</td>\n",
       "      <td>MOTO</td>\n",
       "      <td>AUTO</td>\n",
       "      <td>NaN</td>\n",
       "    </tr>\n",
       "    <tr>\n",
       "      <th>9191</th>\n",
       "      <td>LC-2019-0727315</td>\n",
       "      <td>1</td>\n",
       "      <td>2019-11-12 00:00:00</td>\n",
       "      <td>11.0</td>\n",
       "      <td>10</td>\n",
       "      <td>NaN</td>\n",
       "      <td>-58.493578</td>\n",
       "      <td>-34.630539</td>\n",
       "      <td>TRANSPORTE PUBLICO</td>\n",
       "      <td>NaN</td>\n",
       "      <td>NaN</td>\n",
       "    </tr>\n",
       "    <tr>\n",
       "      <th>5260</th>\n",
       "      <td>LC-2019-0442243</td>\n",
       "      <td>1</td>\n",
       "      <td>2019-06-26 00:00:00</td>\n",
       "      <td>8.0</td>\n",
       "      <td>11</td>\n",
       "      <td>NaN</td>\n",
       "      <td>-58.475523</td>\n",
       "      <td>-34.609725</td>\n",
       "      <td>NaN</td>\n",
       "      <td>NaN</td>\n",
       "      <td>NaN</td>\n",
       "    </tr>\n",
       "  </tbody>\n",
       "</table>\n",
       "</div>"
      ],
      "text/plain": [
       "                    id  n_victimas                fecha  franja_hora  \\\n",
       "983    LC-2019-0086214           1  2019-02-10 00:00:00          1.0   \n",
       "3768   LC-2019-0291316           1  2019-05-10 00:00:00          7.0   \n",
       "10669  LC-2020-0595200           2  2020-11-03 00:00:00         15.0   \n",
       "5301   LC-2019-0401653           1  2019-06-28 00:00:00         11.0   \n",
       "10113  LC-2020-0031929           1  2020-01-15 00:00:00         19.0   \n",
       "12589  LC-2020-0202829           1  2020-04-19 00:00:00          0.0   \n",
       "15437  LC-2020-0641333           1  2020-12-03 00:00:00          8.0   \n",
       "18289  LC-2021-0133217           1  2021-03-23 00:00:00         17.0   \n",
       "9191   LC-2019-0727315           1  2019-11-12 00:00:00         11.0   \n",
       "5260   LC-2019-0442243           1  2019-06-26 00:00:00          8.0   \n",
       "\n",
       "                comuna tipo_calle   longitud    latutid             victima  \\\n",
       "983    No Especificada        NaN        NaN        NaN                 NaN   \n",
       "3768                12        NaN -58.474902 -34.545690                 NaN   \n",
       "10669                1    AVENIDA -58.366456 -34.618119            CICLISTA   \n",
       "5301                 5        NaN -58.414897 -34.637176                 NaN   \n",
       "10113               12    AVENIDA -58.506262 -34.568242            CICLISTA   \n",
       "12589                4      CALLE -58.366344 -34.638775               MOVIL   \n",
       "15437                3      CALLE -58.410252 -34.603167                 NaN   \n",
       "18289               12    AVENIDA -58.492643 -34.569119                MOTO   \n",
       "9191                10        NaN -58.493578 -34.630539  TRANSPORTE PUBLICO   \n",
       "5260                11        NaN -58.475523 -34.609725                 NaN   \n",
       "\n",
       "      acusado gravedad  \n",
       "983       NaN      NaN  \n",
       "3768      NaN      NaN  \n",
       "10669     NaN      NaN  \n",
       "5301      NaN      NaN  \n",
       "10113    AUTO      NaN  \n",
       "12589     NaN    GRAVE  \n",
       "15437     NaN      NaN  \n",
       "18289    AUTO      NaN  \n",
       "9191      NaN      NaN  \n",
       "5260      NaN      NaN  "
      ]
     },
     "execution_count": 86,
     "metadata": {},
     "output_type": "execute_result"
    }
   ],
   "source": [
    "df_hechos.sample(10)"
   ]
  },
  {
   "cell_type": "markdown",
   "metadata": {},
   "source": [
    "Los valores nulos en la la columna `gravedad` se remplazan por **leve**\n",
    "Los valores *NO especificada* en la columna `comuna` se remplazan por valores nulos"
   ]
  },
  {
   "cell_type": "code",
   "execution_count": 87,
   "metadata": {},
   "outputs": [],
   "source": [
    "df_hechos['gravedad'].fillna('LEVE',inplace=True)\n",
    "df_hechos['comuna'].replace('No Especificada',np.nan,inplace=True)"
   ]
  },
  {
   "cell_type": "markdown",
   "metadata": {},
   "source": [
    "#### Cambio de tipo des de datos"
   ]
  },
  {
   "cell_type": "markdown",
   "metadata": {},
   "source": [
    "\n",
    "\n",
    "Las columnas `franja_hora`, `tipo_calle`, `comuna` y `acusado` serán transformadas al tipo de dato categórico <br>\n",
    "Las columnas `longitud` y `latitud` serán transformadas al tipo de dato flotante <br>\n",
    "La columna `fecha` serán transformadas a formato fecha\n"
   ]
  },
  {
   "cell_type": "code",
   "execution_count": 88,
   "metadata": {},
   "outputs": [],
   "source": [
    "# cambio a tipo categórico\n",
    "import pandas as pd\n",
    "df_hechos['franja_hora'] = df_hechos['franja_hora'].astype('category')\n",
    "df_hechos['tipo_calle'] = df_hechos['tipo_calle'].astype('category')\n",
    "df_hechos['comuna'] = df_hechos['comuna'].astype('category')\n",
    "df_hechos['acusado'] = df_hechos['acusado'].astype('category')\n",
    "\n",
    "# cambio a flotante los valores de pos x y pos y\n",
    "df_hechos['longitud'] = df_hechos['longitud'].astype('float')\n",
    "df_hechos['latutid'] = df_hechos['latutid'].astype('float')\n",
    "\n",
    "# convierte la columna fecha a tipo fecha\n",
    "df_hechos['fecha'] = pd.to_datetime(df_hechos['fecha'],errors='coerce')"
   ]
  },
  {
   "cell_type": "markdown",
   "metadata": {},
   "source": [
    "#### Columnas"
   ]
  },
  {
   "cell_type": "markdown",
   "metadata": {},
   "source": [
    "##### Renombrar columnas\n",
    "Se modifican las columnas para mejor lectura y un futuro tratamiento mas cómodo"
   ]
  },
  {
   "cell_type": "code",
   "execution_count": 89,
   "metadata": {},
   "outputs": [],
   "source": [
    "# Renombrar columnas en df_hechos\n",
    "df_hechos.rename(columns={'id': 'id_hecho', 'franja_hora': 'hh', 'latutid': 'latitud'}, inplace=True)"
   ]
  },
  {
   "cell_type": "markdown",
   "metadata": {},
   "source": [
    "En las columnas `victima` y `acusado` se hacen cambios de nombres para coincidir con el csv `homicidios_hechos`."
   ]
  },
  {
   "cell_type": "code",
   "execution_count": 90,
   "metadata": {},
   "outputs": [],
   "source": [
    "df_hechos[['acusado', 'victima']] = df_hechos[['acusado', 'victima']].replace({'CICLISTA': 'BICICLETA', 'CARGAS': 'CAMION'})"
   ]
  },
  {
   "cell_type": "code",
   "execution_count": 91,
   "metadata": {},
   "outputs": [
    {
     "data": {
      "text/html": [
       "<div>\n",
       "<style scoped>\n",
       "    .dataframe tbody tr th:only-of-type {\n",
       "        vertical-align: middle;\n",
       "    }\n",
       "\n",
       "    .dataframe tbody tr th {\n",
       "        vertical-align: top;\n",
       "    }\n",
       "\n",
       "    .dataframe thead th {\n",
       "        text-align: right;\n",
       "    }\n",
       "</style>\n",
       "<table border=\"1\" class=\"dataframe\">\n",
       "  <thead>\n",
       "    <tr style=\"text-align: right;\">\n",
       "      <th></th>\n",
       "      <th>id_hecho</th>\n",
       "      <th>n_victimas</th>\n",
       "      <th>fecha</th>\n",
       "      <th>hh</th>\n",
       "      <th>comuna</th>\n",
       "      <th>tipo_calle</th>\n",
       "      <th>longitud</th>\n",
       "      <th>latitud</th>\n",
       "      <th>victima</th>\n",
       "      <th>acusado</th>\n",
       "      <th>gravedad</th>\n",
       "    </tr>\n",
       "  </thead>\n",
       "  <tbody>\n",
       "    <tr>\n",
       "      <th>0</th>\n",
       "      <td>LC-2019-0000179</td>\n",
       "      <td>1</td>\n",
       "      <td>2019-01-01</td>\n",
       "      <td>9.0</td>\n",
       "      <td>14.0</td>\n",
       "      <td>NaN</td>\n",
       "      <td>-58.408911</td>\n",
       "      <td>-34.559658</td>\n",
       "      <td>BICICLETA</td>\n",
       "      <td>NaN</td>\n",
       "      <td>LEVE</td>\n",
       "    </tr>\n",
       "    <tr>\n",
       "      <th>1</th>\n",
       "      <td>LC-2019-0000053</td>\n",
       "      <td>1</td>\n",
       "      <td>2019-01-01</td>\n",
       "      <td>1.0</td>\n",
       "      <td>8.0</td>\n",
       "      <td>NaN</td>\n",
       "      <td>-58.443510</td>\n",
       "      <td>-34.669125</td>\n",
       "      <td>AUTO</td>\n",
       "      <td>NaN</td>\n",
       "      <td>LEVE</td>\n",
       "    </tr>\n",
       "    <tr>\n",
       "      <th>2</th>\n",
       "      <td>LC-2019-0000063</td>\n",
       "      <td>1</td>\n",
       "      <td>2019-01-01</td>\n",
       "      <td>2.0</td>\n",
       "      <td>8.0</td>\n",
       "      <td>NaN</td>\n",
       "      <td>-58.468335</td>\n",
       "      <td>-34.677556</td>\n",
       "      <td>NaN</td>\n",
       "      <td>NaN</td>\n",
       "      <td>LEVE</td>\n",
       "    </tr>\n",
       "    <tr>\n",
       "      <th>3</th>\n",
       "      <td>LC-2019-0000079</td>\n",
       "      <td>1</td>\n",
       "      <td>2019-01-01</td>\n",
       "      <td>2.0</td>\n",
       "      <td>7.0</td>\n",
       "      <td>NaN</td>\n",
       "      <td>-58.437425</td>\n",
       "      <td>-34.647349</td>\n",
       "      <td>PEATON</td>\n",
       "      <td>NaN</td>\n",
       "      <td>LEVE</td>\n",
       "    </tr>\n",
       "    <tr>\n",
       "      <th>4</th>\n",
       "      <td>LC-2019-0000082</td>\n",
       "      <td>4</td>\n",
       "      <td>2019-01-01</td>\n",
       "      <td>4.0</td>\n",
       "      <td>3.0</td>\n",
       "      <td>NaN</td>\n",
       "      <td>-58.398225</td>\n",
       "      <td>-34.604579</td>\n",
       "      <td>AUTO</td>\n",
       "      <td>NaN</td>\n",
       "      <td>LEVE</td>\n",
       "    </tr>\n",
       "  </tbody>\n",
       "</table>\n",
       "</div>"
      ],
      "text/plain": [
       "          id_hecho  n_victimas      fecha   hh comuna tipo_calle   longitud  \\\n",
       "0  LC-2019-0000179           1 2019-01-01  9.0   14.0        NaN -58.408911   \n",
       "1  LC-2019-0000053           1 2019-01-01  1.0    8.0        NaN -58.443510   \n",
       "2  LC-2019-0000063           1 2019-01-01  2.0    8.0        NaN -58.468335   \n",
       "3  LC-2019-0000079           1 2019-01-01  2.0    7.0        NaN -58.437425   \n",
       "4  LC-2019-0000082           4 2019-01-01  4.0    3.0        NaN -58.398225   \n",
       "\n",
       "     latitud    victima acusado gravedad  \n",
       "0 -34.559658  BICICLETA     NaN     LEVE  \n",
       "1 -34.669125       AUTO     NaN     LEVE  \n",
       "2 -34.677556        NaN     NaN     LEVE  \n",
       "3 -34.647349     PEATON     NaN     LEVE  \n",
       "4 -34.604579       AUTO     NaN     LEVE  "
      ]
     },
     "execution_count": 91,
     "metadata": {},
     "output_type": "execute_result"
    }
   ],
   "source": [
    "df_hechos.head()"
   ]
  },
  {
   "cell_type": "markdown",
   "metadata": {},
   "source": [
    "#### Guardo en un CSV para trabajar más cómodo  "
   ]
  },
  {
   "cell_type": "code",
   "execution_count": 92,
   "metadata": {},
   "outputs": [],
   "source": [
    "df_hechos.to_csv('../Data/lesiones_hechos.csv', index=False)"
   ]
  },
  {
   "cell_type": "markdown",
   "metadata": {},
   "source": [
    "# Lesiones victimas"
   ]
  },
  {
   "cell_type": "markdown",
   "metadata": {},
   "source": [
    "Carga del dataset"
   ]
  },
  {
   "cell_type": "code",
   "execution_count": 93,
   "metadata": {},
   "outputs": [],
   "source": [
    "df_victimas = pd.read_excel('../Data/lesiones.xlsx', sheet_name = 'VICTIMAS', na_values=['SD','sd'])"
   ]
  },
  {
   "cell_type": "code",
   "execution_count": 94,
   "metadata": {},
   "outputs": [
    {
     "data": {
      "text/html": [
       "<div>\n",
       "<style scoped>\n",
       "    .dataframe tbody tr th:only-of-type {\n",
       "        vertical-align: middle;\n",
       "    }\n",
       "\n",
       "    .dataframe tbody tr th {\n",
       "        vertical-align: top;\n",
       "    }\n",
       "\n",
       "    .dataframe thead th {\n",
       "        text-align: right;\n",
       "    }\n",
       "</style>\n",
       "<table border=\"1\" class=\"dataframe\">\n",
       "  <thead>\n",
       "    <tr style=\"text-align: right;\">\n",
       "      <th></th>\n",
       "      <th>ID hecho</th>\n",
       "      <th>AAA</th>\n",
       "      <th>MM</th>\n",
       "      <th>DD</th>\n",
       "      <th>FECHA</th>\n",
       "      <th>VEHICULO_VICTIMA</th>\n",
       "      <th>SEXO</th>\n",
       "      <th>EDAD_VICTIMA</th>\n",
       "      <th>GRAVEDAD</th>\n",
       "    </tr>\n",
       "  </thead>\n",
       "  <tbody>\n",
       "    <tr>\n",
       "      <th>0</th>\n",
       "      <td>LC-2019-0000053</td>\n",
       "      <td>2019</td>\n",
       "      <td>1</td>\n",
       "      <td>1</td>\n",
       "      <td>2019-01-01</td>\n",
       "      <td>NaN</td>\n",
       "      <td>Varon</td>\n",
       "      <td>57.0</td>\n",
       "      <td>NaN</td>\n",
       "    </tr>\n",
       "    <tr>\n",
       "      <th>1</th>\n",
       "      <td>LC-2019-0000063</td>\n",
       "      <td>2019</td>\n",
       "      <td>1</td>\n",
       "      <td>1</td>\n",
       "      <td>2019-01-01</td>\n",
       "      <td>NaN</td>\n",
       "      <td>NaN</td>\n",
       "      <td>NaN</td>\n",
       "      <td>NaN</td>\n",
       "    </tr>\n",
       "    <tr>\n",
       "      <th>2</th>\n",
       "      <td>LC-2019-0000079</td>\n",
       "      <td>2019</td>\n",
       "      <td>1</td>\n",
       "      <td>1</td>\n",
       "      <td>2019-01-01</td>\n",
       "      <td>NaN</td>\n",
       "      <td>Varon</td>\n",
       "      <td>NaN</td>\n",
       "      <td>NaN</td>\n",
       "    </tr>\n",
       "    <tr>\n",
       "      <th>3</th>\n",
       "      <td>LC-2019-0000082</td>\n",
       "      <td>2019</td>\n",
       "      <td>1</td>\n",
       "      <td>1</td>\n",
       "      <td>2019-01-01</td>\n",
       "      <td>NaN</td>\n",
       "      <td>Varon</td>\n",
       "      <td>45.0</td>\n",
       "      <td>NaN</td>\n",
       "    </tr>\n",
       "    <tr>\n",
       "      <th>4</th>\n",
       "      <td>LC-2019-0000082</td>\n",
       "      <td>2019</td>\n",
       "      <td>1</td>\n",
       "      <td>1</td>\n",
       "      <td>2019-01-01</td>\n",
       "      <td>NaN</td>\n",
       "      <td>Mujer</td>\n",
       "      <td>45.0</td>\n",
       "      <td>NaN</td>\n",
       "    </tr>\n",
       "  </tbody>\n",
       "</table>\n",
       "</div>"
      ],
      "text/plain": [
       "          ID hecho   AAA  MM  DD     FECHA  VEHICULO_VICTIMA   SEXO  \\\n",
       "0  LC-2019-0000053  2019   1   1 2019-01-01              NaN  Varon   \n",
       "1  LC-2019-0000063  2019   1   1 2019-01-01              NaN    NaN   \n",
       "2  LC-2019-0000079  2019   1   1 2019-01-01              NaN  Varon   \n",
       "3  LC-2019-0000082  2019   1   1 2019-01-01              NaN  Varon   \n",
       "4  LC-2019-0000082  2019   1   1 2019-01-01              NaN  Mujer   \n",
       "\n",
       "   EDAD_VICTIMA GRAVEDAD  \n",
       "0          57.0      NaN  \n",
       "1           NaN      NaN  \n",
       "2           NaN      NaN  \n",
       "3          45.0      NaN  \n",
       "4          45.0      NaN  "
      ]
     },
     "execution_count": 94,
     "metadata": {},
     "output_type": "execute_result"
    }
   ],
   "source": [
    "df_victimas.head()"
   ]
  },
  {
   "cell_type": "markdown",
   "metadata": {},
   "source": [
    "Información de las columnas del dataset"
   ]
  },
  {
   "cell_type": "code",
   "execution_count": 95,
   "metadata": {},
   "outputs": [
    {
     "name": "stdout",
     "output_type": "stream",
     "text": [
      "<class 'pandas.core.frame.DataFrame'>\n",
      "RangeIndex: 27605 entries, 0 to 27604\n",
      "Data columns (total 9 columns):\n",
      " #   Column            Non-Null Count  Dtype         \n",
      "---  ------            --------------  -----         \n",
      " 0   ID hecho          27605 non-null  object        \n",
      " 1   AAA               27605 non-null  int64         \n",
      " 2   MM                27605 non-null  int64         \n",
      " 3   DD                27605 non-null  int64         \n",
      " 4   FECHA             27605 non-null  datetime64[ns]\n",
      " 5   VEHICULO_VICTIMA  11333 non-null  object        \n",
      " 6   SEXO              25377 non-null  object        \n",
      " 7   EDAD_VICTIMA      23134 non-null  float64       \n",
      " 8   GRAVEDAD          537 non-null    object        \n",
      "dtypes: datetime64[ns](1), float64(1), int64(3), object(4)\n",
      "memory usage: 1.9+ MB\n"
     ]
    }
   ],
   "source": [
    "df_victimas.info()"
   ]
  },
  {
   "cell_type": "markdown",
   "metadata": {},
   "source": [
    "#### Elimino columnas innecesarias"
   ]
  },
  {
   "cell_type": "markdown",
   "metadata": {},
   "source": [
    "\n",
    "Luego de analizar las columnas se determino que: \n",
    "* Las columnas `AAAA`,`MM`,`DD` hacen referencia a la información de la columna `FECHA`"
   ]
  },
  {
   "cell_type": "code",
   "execution_count": 96,
   "metadata": {},
   "outputs": [],
   "source": [
    "df_victimas.drop(columns=['AAA','MM','DD'],inplace=True)"
   ]
  },
  {
   "cell_type": "markdown",
   "metadata": {},
   "source": [
    "#### Valores nulos\n",
    "Conteo de nulos"
   ]
  },
  {
   "cell_type": "code",
   "execution_count": 97,
   "metadata": {},
   "outputs": [
    {
     "data": {
      "text/plain": [
       "ID hecho                0\n",
       "FECHA                   0\n",
       "VEHICULO_VICTIMA    16272\n",
       "SEXO                 2228\n",
       "EDAD_VICTIMA         4471\n",
       "GRAVEDAD            27068\n",
       "dtype: int64"
      ]
     },
     "execution_count": 97,
     "metadata": {},
     "output_type": "execute_result"
    }
   ],
   "source": [
    "df_victimas.isnull().sum()"
   ]
  },
  {
   "cell_type": "markdown",
   "metadata": {},
   "source": [
    "Extraigo varias muestras de forma aleatoria para verificar otro tipo de nulos"
   ]
  },
  {
   "cell_type": "code",
   "execution_count": 98,
   "metadata": {},
   "outputs": [
    {
     "data": {
      "text/html": [
       "<div>\n",
       "<style scoped>\n",
       "    .dataframe tbody tr th:only-of-type {\n",
       "        vertical-align: middle;\n",
       "    }\n",
       "\n",
       "    .dataframe tbody tr th {\n",
       "        vertical-align: top;\n",
       "    }\n",
       "\n",
       "    .dataframe thead th {\n",
       "        text-align: right;\n",
       "    }\n",
       "</style>\n",
       "<table border=\"1\" class=\"dataframe\">\n",
       "  <thead>\n",
       "    <tr style=\"text-align: right;\">\n",
       "      <th></th>\n",
       "      <th>ID hecho</th>\n",
       "      <th>FECHA</th>\n",
       "      <th>VEHICULO_VICTIMA</th>\n",
       "      <th>SEXO</th>\n",
       "      <th>EDAD_VICTIMA</th>\n",
       "      <th>GRAVEDAD</th>\n",
       "    </tr>\n",
       "  </thead>\n",
       "  <tbody>\n",
       "    <tr>\n",
       "      <th>8709</th>\n",
       "      <td>LC-2019-0557653</td>\n",
       "      <td>2019-09-05</td>\n",
       "      <td>NaN</td>\n",
       "      <td>Varon</td>\n",
       "      <td>NaN</td>\n",
       "      <td>NaN</td>\n",
       "    </tr>\n",
       "    <tr>\n",
       "      <th>16144</th>\n",
       "      <td>LC-2020-0154741</td>\n",
       "      <td>2020-03-10</td>\n",
       "      <td>MOTO</td>\n",
       "      <td>Varon</td>\n",
       "      <td>22.0</td>\n",
       "      <td>NaN</td>\n",
       "    </tr>\n",
       "    <tr>\n",
       "      <th>21407</th>\n",
       "      <td>LC-2021-0382173</td>\n",
       "      <td>2021-07-27</td>\n",
       "      <td>NaN</td>\n",
       "      <td>Mujer</td>\n",
       "      <td>42.0</td>\n",
       "      <td>NaN</td>\n",
       "    </tr>\n",
       "    <tr>\n",
       "      <th>23135</th>\n",
       "      <td>LC-2021-0246622</td>\n",
       "      <td>2021-06-02</td>\n",
       "      <td>PEATON</td>\n",
       "      <td>Mujer</td>\n",
       "      <td>23.0</td>\n",
       "      <td>NaN</td>\n",
       "    </tr>\n",
       "    <tr>\n",
       "      <th>16533</th>\n",
       "      <td>LC-2020-0481838</td>\n",
       "      <td>2020-08-16</td>\n",
       "      <td>MOTO</td>\n",
       "      <td>Mujer</td>\n",
       "      <td>26.0</td>\n",
       "      <td>NaN</td>\n",
       "    </tr>\n",
       "    <tr>\n",
       "      <th>3846</th>\n",
       "      <td>LC-2019-0257166</td>\n",
       "      <td>2019-04-24</td>\n",
       "      <td>NaN</td>\n",
       "      <td>Varon</td>\n",
       "      <td>39.0</td>\n",
       "      <td>NaN</td>\n",
       "    </tr>\n",
       "    <tr>\n",
       "      <th>15903</th>\n",
       "      <td>LC-2020-0618063</td>\n",
       "      <td>2020-11-17</td>\n",
       "      <td>NaN</td>\n",
       "      <td>Varon</td>\n",
       "      <td>66.0</td>\n",
       "      <td>NaN</td>\n",
       "    </tr>\n",
       "    <tr>\n",
       "      <th>7185</th>\n",
       "      <td>LC-2019-0450331</td>\n",
       "      <td>2019-07-20</td>\n",
       "      <td>NaN</td>\n",
       "      <td>Varon</td>\n",
       "      <td>22.0</td>\n",
       "      <td>NaN</td>\n",
       "    </tr>\n",
       "    <tr>\n",
       "      <th>19845</th>\n",
       "      <td>LC-2021-0085683</td>\n",
       "      <td>2021-02-25</td>\n",
       "      <td>AUTO</td>\n",
       "      <td>NaN</td>\n",
       "      <td>NaN</td>\n",
       "      <td>NaN</td>\n",
       "    </tr>\n",
       "    <tr>\n",
       "      <th>15126</th>\n",
       "      <td>LC-2020-0127087</td>\n",
       "      <td>2020-02-27</td>\n",
       "      <td>CICLISTA</td>\n",
       "      <td>Mujer</td>\n",
       "      <td>40.0</td>\n",
       "      <td>NaN</td>\n",
       "    </tr>\n",
       "  </tbody>\n",
       "</table>\n",
       "</div>"
      ],
      "text/plain": [
       "              ID hecho     FECHA  VEHICULO_VICTIMA   SEXO  EDAD_VICTIMA  \\\n",
       "8709   LC-2019-0557653 2019-09-05              NaN  Varon           NaN   \n",
       "16144  LC-2020-0154741 2020-03-10             MOTO  Varon          22.0   \n",
       "21407  LC-2021-0382173 2021-07-27              NaN  Mujer          42.0   \n",
       "23135  LC-2021-0246622 2021-06-02           PEATON  Mujer          23.0   \n",
       "16533  LC-2020-0481838 2020-08-16             MOTO  Mujer          26.0   \n",
       "3846   LC-2019-0257166 2019-04-24              NaN  Varon          39.0   \n",
       "15903  LC-2020-0618063 2020-11-17              NaN  Varon          66.0   \n",
       "7185   LC-2019-0450331 2019-07-20              NaN  Varon          22.0   \n",
       "19845  LC-2021-0085683 2021-02-25             AUTO    NaN           NaN   \n",
       "15126  LC-2020-0127087 2020-02-27         CICLISTA  Mujer          40.0   \n",
       "\n",
       "      GRAVEDAD  \n",
       "8709       NaN  \n",
       "16144      NaN  \n",
       "21407      NaN  \n",
       "23135      NaN  \n",
       "16533      NaN  \n",
       "3846       NaN  \n",
       "15903      NaN  \n",
       "7185       NaN  \n",
       "19845      NaN  \n",
       "15126      NaN  "
      ]
     },
     "execution_count": 98,
     "metadata": {},
     "output_type": "execute_result"
    }
   ],
   "source": [
    "df_victimas.sample(10)"
   ]
  },
  {
   "cell_type": "markdown",
   "metadata": {},
   "source": [
    "Los valores nulos presentes en la columna `GRAVEDAD` serán sustituidos por **LEVE**, conforme a las indicaciones proporcionadas en el diccionario de datos, donde se establece que los valores nulos deben ser interpretados como incidentes de gravedad leve"
   ]
  },
  {
   "cell_type": "code",
   "execution_count": 99,
   "metadata": {},
   "outputs": [],
   "source": [
    "df_victimas['GRAVEDAD'].fillna('LEVE',inplace=True)"
   ]
  },
  {
   "cell_type": "markdown",
   "metadata": {},
   "source": [
    "#### Cambio de tipo des de datos\n",
    "\n",
    "Las columnas `VEHICULO_VICTIMA`, `SEXO` y `GRAVEDAD` serán transformadas al tipo de dato categórico\n"
   ]
  },
  {
   "cell_type": "code",
   "execution_count": 100,
   "metadata": {},
   "outputs": [],
   "source": [
    "# cambio a tipo categórico\n",
    "df_victimas['VEHICULO_VICTIMA'] = df_victimas['VEHICULO_VICTIMA'].astype('category')\n",
    "df_victimas['GRAVEDAD'] = df_victimas['GRAVEDAD'].astype('category')\n",
    "df_victimas['SEXO'] = df_victimas['SEXO'].astype('category')"
   ]
  },
  {
   "cell_type": "markdown",
   "metadata": {},
   "source": [
    "#### Columnas"
   ]
  },
  {
   "cell_type": "markdown",
   "metadata": {},
   "source": [
    "##### Renombrar columnas\n",
    "Se modifican las columnas para mejor lectura y un futuro tratamiento mas cómodo"
   ]
  },
  {
   "cell_type": "code",
   "execution_count": 101,
   "metadata": {},
   "outputs": [],
   "source": [
    "# Transformar a minúsculas todas las columnas en lesiones_victimas\n",
    "df_victimas.columns = df_victimas.columns.str.lower()\n",
    "# Renombrar columnas en lesiones_victimas\n",
    "df_victimas.rename(columns={'id hecho': 'id_hecho', 'sexo': 'sexo_victima'}, inplace=True)"
   ]
  },
  {
   "cell_type": "markdown",
   "metadata": {},
   "source": [
    "Remplazo de la columna `sexo_victima` **VARON** y **MUJER** por `MASCULINO` y `FEMENINO`"
   ]
  },
  {
   "cell_type": "code",
   "execution_count": 102,
   "metadata": {},
   "outputs": [],
   "source": [
    "df_victimas['sexo_victima'].replace({'Varon':'MASCULINO','Mujer':'FEMENINO'},inplace=True)"
   ]
  },
  {
   "cell_type": "code",
   "execution_count": 103,
   "metadata": {},
   "outputs": [
    {
     "data": {
      "text/html": [
       "<div>\n",
       "<style scoped>\n",
       "    .dataframe tbody tr th:only-of-type {\n",
       "        vertical-align: middle;\n",
       "    }\n",
       "\n",
       "    .dataframe tbody tr th {\n",
       "        vertical-align: top;\n",
       "    }\n",
       "\n",
       "    .dataframe thead th {\n",
       "        text-align: right;\n",
       "    }\n",
       "</style>\n",
       "<table border=\"1\" class=\"dataframe\">\n",
       "  <thead>\n",
       "    <tr style=\"text-align: right;\">\n",
       "      <th></th>\n",
       "      <th>id_hecho</th>\n",
       "      <th>fecha</th>\n",
       "      <th>vehiculo_victima</th>\n",
       "      <th>sexo_victima</th>\n",
       "      <th>edad_victima</th>\n",
       "      <th>gravedad</th>\n",
       "    </tr>\n",
       "  </thead>\n",
       "  <tbody>\n",
       "    <tr>\n",
       "      <th>0</th>\n",
       "      <td>LC-2019-0000053</td>\n",
       "      <td>2019-01-01</td>\n",
       "      <td>NaN</td>\n",
       "      <td>MASCULINO</td>\n",
       "      <td>57.0</td>\n",
       "      <td>LEVE</td>\n",
       "    </tr>\n",
       "    <tr>\n",
       "      <th>1</th>\n",
       "      <td>LC-2019-0000063</td>\n",
       "      <td>2019-01-01</td>\n",
       "      <td>NaN</td>\n",
       "      <td>NaN</td>\n",
       "      <td>NaN</td>\n",
       "      <td>LEVE</td>\n",
       "    </tr>\n",
       "    <tr>\n",
       "      <th>2</th>\n",
       "      <td>LC-2019-0000079</td>\n",
       "      <td>2019-01-01</td>\n",
       "      <td>NaN</td>\n",
       "      <td>MASCULINO</td>\n",
       "      <td>NaN</td>\n",
       "      <td>LEVE</td>\n",
       "    </tr>\n",
       "    <tr>\n",
       "      <th>3</th>\n",
       "      <td>LC-2019-0000082</td>\n",
       "      <td>2019-01-01</td>\n",
       "      <td>NaN</td>\n",
       "      <td>MASCULINO</td>\n",
       "      <td>45.0</td>\n",
       "      <td>LEVE</td>\n",
       "    </tr>\n",
       "    <tr>\n",
       "      <th>4</th>\n",
       "      <td>LC-2019-0000082</td>\n",
       "      <td>2019-01-01</td>\n",
       "      <td>NaN</td>\n",
       "      <td>FEMENINO</td>\n",
       "      <td>45.0</td>\n",
       "      <td>LEVE</td>\n",
       "    </tr>\n",
       "  </tbody>\n",
       "</table>\n",
       "</div>"
      ],
      "text/plain": [
       "          id_hecho     fecha  vehiculo_victima sexo_victima  edad_victima  \\\n",
       "0  LC-2019-0000053 2019-01-01              NaN    MASCULINO          57.0   \n",
       "1  LC-2019-0000063 2019-01-01              NaN          NaN           NaN   \n",
       "2  LC-2019-0000079 2019-01-01              NaN    MASCULINO           NaN   \n",
       "3  LC-2019-0000082 2019-01-01              NaN    MASCULINO          45.0   \n",
       "4  LC-2019-0000082 2019-01-01              NaN     FEMENINO          45.0   \n",
       "\n",
       "  gravedad  \n",
       "0     LEVE  \n",
       "1     LEVE  \n",
       "2     LEVE  \n",
       "3     LEVE  \n",
       "4     LEVE  "
      ]
     },
     "execution_count": 103,
     "metadata": {},
     "output_type": "execute_result"
    }
   ],
   "source": [
    "df_victimas.head()"
   ]
  },
  {
   "cell_type": "markdown",
   "metadata": {},
   "source": [
    "#### Guardo en un CSV para trabajar más cómodo  "
   ]
  },
  {
   "cell_type": "code",
   "execution_count": 104,
   "metadata": {},
   "outputs": [],
   "source": [
    "df_victimas.to_csv('../Data/lesiones_victimas.csv', index=False)"
   ]
  }
 ],
 "metadata": {
  "kernelspec": {
   "display_name": "Python 3",
   "language": "python",
   "name": "python3"
  },
  "language_info": {
   "codemirror_mode": {
    "name": "ipython",
    "version": 3
   },
   "file_extension": ".py",
   "mimetype": "text/x-python",
   "name": "python",
   "nbconvert_exporter": "python",
   "pygments_lexer": "ipython3",
   "version": "3.12.0"
  }
 },
 "nbformat": 4,
 "nbformat_minor": 2
}
