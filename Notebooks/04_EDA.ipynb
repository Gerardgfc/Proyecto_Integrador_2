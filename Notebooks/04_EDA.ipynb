{
 "cells": [
  {
   "cell_type": "markdown",
   "metadata": {},
   "source": [
    "# Análisis Exploratorio de los datos"
   ]
  },
  {
   "cell_type": "markdown",
   "metadata": {},
   "source": [
    "En este reporte se llevará a cabo una exploración detallada de los conjuntos de datos asociados con los conjuntos de hechos y víctimas. La meta principal consiste en comprender la organización de estos datos, detectar posibles patrones y recopilar información significativa que pueda servir como guía para realizar el dashboard en PowerBI."
   ]
  },
  {
   "cell_type": "markdown",
   "metadata": {},
   "source": [
    "Importacón de librerias"
   ]
  },
  {
   "cell_type": "code",
   "execution_count": 99,
   "metadata": {},
   "outputs": [],
   "source": [
    "import pandas as pd\n",
    "import matplotlib.pyplot as plt\n",
    "import seaborn as sns\n",
    "import warnings\n",
    "import calendar\n",
    "import geopandas as gpd\n",
    "from shapely.geometry import Point\n",
    "# Desactivar los warnings\n",
    "warnings.filterwarnings(\"ignore\")"
   ]
  },
  {
   "cell_type": "markdown",
   "metadata": {},
   "source": [
    "## Carga de los datos"
   ]
  },
  {
   "cell_type": "code",
   "execution_count": 53,
   "metadata": {},
   "outputs": [],
   "source": [
    "homicidios_hechos = pd.read_csv('../Data/homicidios_hechos.csv')\n",
    "homicidios_victimas = pd.read_csv('../Data/homicidios_victimas.csv')\n",
    "\n",
    "lesiones_hechos = pd.read_csv('../Data/lesiones_hechos.csv')\n",
    "lesiones_victimas = pd.read_csv('../Data/lesiones_victimas.csv')"
   ]
  },
  {
   "cell_type": "markdown",
   "metadata": {},
   "source": [
    "### Concatenación de los datos"
   ]
  },
  {
   "cell_type": "markdown",
   "metadata": {},
   "source": [
    "Se relaiza la concatenacion de los csv `homicidios_hechos` y `lesiones_hechos`, asi como también de los csv `homicidios_victimas` y `lesiones_victimas`"
   ]
  },
  {
   "cell_type": "markdown",
   "metadata": {},
   "source": [
    "#### Dataframes de hechos"
   ]
  },
  {
   "cell_type": "code",
   "execution_count": 54,
   "metadata": {},
   "outputs": [],
   "source": [
    "# Define el nuevo orden de las columnas para 'homicidios_hechos'\n",
    "nuevo_orden_homicidios_hechos = ['id_hecho', 'n_victimas', 'fecha', 'hh', 'tipo_calle', 'comuna',\n",
    "                                'longitud', 'latitud', 'victima', 'acusado','gravedad']\n",
    "\n",
    "# Reordena las columnas en 'homicidios_hechos' según el nuevo orden\n",
    "homicidios_hechos = homicidios_hechos[nuevo_orden_homicidios_hechos]\n",
    "\n",
    "# Define el nuevo orden de las columnas para 'lesiones_hechos'\n",
    "nuevo_orden_lesiones_hechos = ['id_hecho', 'n_victimas', 'fecha', 'hh', 'comuna', 'tipo_calle',\n",
    "                               'longitud', 'latitud', 'victima', 'acusado', 'gravedad']\n",
    "\n",
    "# Reordena las columnas en 'lesiones_hechos' según el nuevo orden\n",
    "lesiones_hechos = lesiones_hechos[nuevo_orden_lesiones_hechos]\n",
    "\n",
    "# Concatena los DataFrames\n",
    "hechos = pd.concat([homicidios_hechos, lesiones_hechos], ignore_index=True)"
   ]
  },
  {
   "cell_type": "markdown",
   "metadata": {},
   "source": [
    "Se modifica de la columna `tipo_calle` **GRAL PAZ** por **AVENIDA** como indica el diccionario de datos"
   ]
  },
  {
   "cell_type": "code",
   "execution_count": 55,
   "metadata": {},
   "outputs": [],
   "source": [
    "hechos['tipo_calle'] = hechos['tipo_calle'].replace('GRAL PAZ', 'AVENIDA')"
   ]
  },
  {
   "cell_type": "markdown",
   "metadata": {},
   "source": [
    "#### Se modifica el contenido de algunas columnas para el Dashboard"
   ]
  },
  {
   "cell_type": "code",
   "execution_count": 236,
   "metadata": {},
   "outputs": [],
   "source": [
    "hechos['Victima_fatal'] = hechos['Victima_fatal'].replace({'SI': 1})\n",
    "hechos['Victima_fatal'] = hechos['Victima_fatal'].replace({'NO': 0})\n",
    "\n",
    "#Se crea una nueva columna para victimas no fatales\n",
    "hechos['Victima_no_fatal'] = 1 - hechos['Victima_fatal']"
   ]
  },
  {
   "cell_type": "code",
   "execution_count": 240,
   "metadata": {},
   "outputs": [
    {
     "data": {
      "text/html": [
       "<div>\n",
       "<style scoped>\n",
       "    .dataframe tbody tr th:only-of-type {\n",
       "        vertical-align: middle;\n",
       "    }\n",
       "\n",
       "    .dataframe tbody tr th {\n",
       "        vertical-align: top;\n",
       "    }\n",
       "\n",
       "    .dataframe thead th {\n",
       "        text-align: right;\n",
       "    }\n",
       "</style>\n",
       "<table border=\"1\" class=\"dataframe\">\n",
       "  <thead>\n",
       "    <tr style=\"text-align: right;\">\n",
       "      <th></th>\n",
       "      <th>id_hecho</th>\n",
       "      <th>n_victimas</th>\n",
       "      <th>fecha</th>\n",
       "      <th>hh</th>\n",
       "      <th>tipo_calle</th>\n",
       "      <th>comuna</th>\n",
       "      <th>longitud</th>\n",
       "      <th>latitud</th>\n",
       "      <th>victima</th>\n",
       "      <th>acusado</th>\n",
       "      <th>gravedad</th>\n",
       "      <th>Victima_fatal</th>\n",
       "      <th>Victima_no_fatal</th>\n",
       "    </tr>\n",
       "  </thead>\n",
       "  <tbody>\n",
       "    <tr>\n",
       "      <th>11809</th>\n",
       "      <td>LC-2020-0034641</td>\n",
       "      <td>1</td>\n",
       "      <td>2020-01-16</td>\n",
       "      <td>21.0</td>\n",
       "      <td>AVENIDA</td>\n",
       "      <td>4.0</td>\n",
       "      <td>-58.426747</td>\n",
       "      <td>-34.658672</td>\n",
       "      <td>MOTO</td>\n",
       "      <td>AUTO</td>\n",
       "      <td>LEVE</td>\n",
       "      <td>0</td>\n",
       "      <td>1</td>\n",
       "    </tr>\n",
       "    <tr>\n",
       "      <th>21047</th>\n",
       "      <td>LC-2021-0379922</td>\n",
       "      <td>1</td>\n",
       "      <td>2021-07-31</td>\n",
       "      <td>21.0</td>\n",
       "      <td>NaN</td>\n",
       "      <td>NaN</td>\n",
       "      <td>NaN</td>\n",
       "      <td>NaN</td>\n",
       "      <td>NaN</td>\n",
       "      <td>NaN</td>\n",
       "      <td>LEVE</td>\n",
       "      <td>0</td>\n",
       "      <td>1</td>\n",
       "    </tr>\n",
       "    <tr>\n",
       "      <th>10161</th>\n",
       "      <td>LC-2019-0752064</td>\n",
       "      <td>1</td>\n",
       "      <td>2019-11-28</td>\n",
       "      <td>19.0</td>\n",
       "      <td>NaN</td>\n",
       "      <td>1.0</td>\n",
       "      <td>-58.371855</td>\n",
       "      <td>-34.597620</td>\n",
       "      <td>BICICLETA</td>\n",
       "      <td>NaN</td>\n",
       "      <td>LEVE</td>\n",
       "      <td>0</td>\n",
       "      <td>1</td>\n",
       "    </tr>\n",
       "    <tr>\n",
       "      <th>4048</th>\n",
       "      <td>LC-2019-0263922</td>\n",
       "      <td>1</td>\n",
       "      <td>2019-04-27</td>\n",
       "      <td>17.0</td>\n",
       "      <td>NaN</td>\n",
       "      <td>14.0</td>\n",
       "      <td>-58.423534</td>\n",
       "      <td>-34.576795</td>\n",
       "      <td>NaN</td>\n",
       "      <td>NaN</td>\n",
       "      <td>LEVE</td>\n",
       "      <td>0</td>\n",
       "      <td>1</td>\n",
       "    </tr>\n",
       "    <tr>\n",
       "      <th>23634</th>\n",
       "      <td>LC-2021-0589334</td>\n",
       "      <td>2</td>\n",
       "      <td>2021-11-26</td>\n",
       "      <td>4.0</td>\n",
       "      <td>CALLE</td>\n",
       "      <td>1.0</td>\n",
       "      <td>-58.366597</td>\n",
       "      <td>-34.616878</td>\n",
       "      <td>AUTO</td>\n",
       "      <td>OTRO</td>\n",
       "      <td>LEVE</td>\n",
       "      <td>0</td>\n",
       "      <td>1</td>\n",
       "    </tr>\n",
       "    <tr>\n",
       "      <th>7220</th>\n",
       "      <td>LC-2019-0490031</td>\n",
       "      <td>1</td>\n",
       "      <td>2019-08-07</td>\n",
       "      <td>17.0</td>\n",
       "      <td>NaN</td>\n",
       "      <td>7.0</td>\n",
       "      <td>-58.436773</td>\n",
       "      <td>-34.649448</td>\n",
       "      <td>NaN</td>\n",
       "      <td>NaN</td>\n",
       "      <td>LEVE</td>\n",
       "      <td>0</td>\n",
       "      <td>1</td>\n",
       "    </tr>\n",
       "    <tr>\n",
       "      <th>20777</th>\n",
       "      <td>LC-2021-0337155</td>\n",
       "      <td>2</td>\n",
       "      <td>2021-07-17</td>\n",
       "      <td>17.0</td>\n",
       "      <td>AVENIDA</td>\n",
       "      <td>7.0</td>\n",
       "      <td>-58.426936</td>\n",
       "      <td>-34.632608</td>\n",
       "      <td>CAMIONETA</td>\n",
       "      <td>AUTO</td>\n",
       "      <td>GRAVE</td>\n",
       "      <td>0</td>\n",
       "      <td>1</td>\n",
       "    </tr>\n",
       "    <tr>\n",
       "      <th>5090</th>\n",
       "      <td>LC-2019-0334163</td>\n",
       "      <td>1</td>\n",
       "      <td>2019-05-28</td>\n",
       "      <td>23.0</td>\n",
       "      <td>NaN</td>\n",
       "      <td>11.0</td>\n",
       "      <td>-58.494972</td>\n",
       "      <td>-34.609356</td>\n",
       "      <td>NaN</td>\n",
       "      <td>NaN</td>\n",
       "      <td>LEVE</td>\n",
       "      <td>0</td>\n",
       "      <td>1</td>\n",
       "    </tr>\n",
       "    <tr>\n",
       "      <th>15724</th>\n",
       "      <td>LC-2020-0608564</td>\n",
       "      <td>1</td>\n",
       "      <td>2020-11-12</td>\n",
       "      <td>20.0</td>\n",
       "      <td>CALLE</td>\n",
       "      <td>4.0</td>\n",
       "      <td>-58.417647</td>\n",
       "      <td>-34.643036</td>\n",
       "      <td>MOTO</td>\n",
       "      <td>NaN</td>\n",
       "      <td>LEVE</td>\n",
       "      <td>0</td>\n",
       "      <td>1</td>\n",
       "    </tr>\n",
       "    <tr>\n",
       "      <th>22416</th>\n",
       "      <td>LC-2021-0488976</td>\n",
       "      <td>1</td>\n",
       "      <td>2021-10-01</td>\n",
       "      <td>13.0</td>\n",
       "      <td>CALLE</td>\n",
       "      <td>12.0</td>\n",
       "      <td>-58.487904</td>\n",
       "      <td>-34.574984</td>\n",
       "      <td>PEATON</td>\n",
       "      <td>AUTO</td>\n",
       "      <td>LEVE</td>\n",
       "      <td>0</td>\n",
       "      <td>1</td>\n",
       "    </tr>\n",
       "  </tbody>\n",
       "</table>\n",
       "</div>"
      ],
      "text/plain": [
       "              id_hecho  n_victimas      fecha    hh tipo_calle  comuna  \\\n",
       "11809  LC-2020-0034641           1 2020-01-16  21.0    AVENIDA     4.0   \n",
       "21047  LC-2021-0379922           1 2021-07-31  21.0        NaN     NaN   \n",
       "10161  LC-2019-0752064           1 2019-11-28  19.0        NaN     1.0   \n",
       "4048   LC-2019-0263922           1 2019-04-27  17.0        NaN    14.0   \n",
       "23634  LC-2021-0589334           2 2021-11-26   4.0      CALLE     1.0   \n",
       "7220   LC-2019-0490031           1 2019-08-07  17.0        NaN     7.0   \n",
       "20777  LC-2021-0337155           2 2021-07-17  17.0    AVENIDA     7.0   \n",
       "5090   LC-2019-0334163           1 2019-05-28  23.0        NaN    11.0   \n",
       "15724  LC-2020-0608564           1 2020-11-12  20.0      CALLE     4.0   \n",
       "22416  LC-2021-0488976           1 2021-10-01  13.0      CALLE    12.0   \n",
       "\n",
       "        longitud    latitud    victima acusado gravedad  Victima_fatal  \\\n",
       "11809 -58.426747 -34.658672       MOTO    AUTO     LEVE              0   \n",
       "21047        NaN        NaN        NaN     NaN     LEVE              0   \n",
       "10161 -58.371855 -34.597620  BICICLETA     NaN     LEVE              0   \n",
       "4048  -58.423534 -34.576795        NaN     NaN     LEVE              0   \n",
       "23634 -58.366597 -34.616878       AUTO    OTRO     LEVE              0   \n",
       "7220  -58.436773 -34.649448        NaN     NaN     LEVE              0   \n",
       "20777 -58.426936 -34.632608  CAMIONETA    AUTO    GRAVE              0   \n",
       "5090  -58.494972 -34.609356        NaN     NaN     LEVE              0   \n",
       "15724 -58.417647 -34.643036       MOTO     NaN     LEVE              0   \n",
       "22416 -58.487904 -34.574984     PEATON    AUTO     LEVE              0   \n",
       "\n",
       "       Victima_no_fatal  \n",
       "11809                 1  \n",
       "21047                 1  \n",
       "10161                 1  \n",
       "4048                  1  \n",
       "23634                 1  \n",
       "7220                  1  \n",
       "20777                 1  \n",
       "5090                  1  \n",
       "15724                 1  \n",
       "22416                 1  "
      ]
     },
     "execution_count": 240,
     "metadata": {},
     "output_type": "execute_result"
    }
   ],
   "source": [
    "hechos.sample(10)"
   ]
  },
  {
   "cell_type": "markdown",
   "metadata": {},
   "source": [
    "#### DataFrame de victimas"
   ]
  },
  {
   "cell_type": "code",
   "execution_count": 56,
   "metadata": {},
   "outputs": [],
   "source": [
    "# Define el nuevo orden de las columnas para 'homicidios_victimas'\n",
    "nuevo_orden_homicidios_victimas = ['id_hecho', 'fecha', 'rol', 'vehiculo_victima', 'sexo_victima',\n",
    "                                   'edad_victima', 'gravedad']\n",
    "\n",
    "# Reordena las columnas en 'homicidios_victimas' según el nuevo orden\n",
    "homicidios_victimas = homicidios_victimas[nuevo_orden_homicidios_victimas]\n",
    "\n",
    "# Define el nuevo orden de las columnas para 'lesiones_victimas'\n",
    "nuevo_orden_lesiones_victimas = ['id_hecho', 'fecha', 'vehiculo_victima', 'sexo_victima', 'edad_victima',\n",
    "                                 'gravedad']\n",
    "\n",
    "# Reordena las columnas en 'lesiones_victimas' según el nuevo orden\n",
    "lesiones_victimas = lesiones_victimas[nuevo_orden_lesiones_victimas]\n",
    "\n",
    "# Concatena los DataFrames\n",
    "victimas = pd.concat([homicidios_victimas, lesiones_victimas], ignore_index=True)"
   ]
  },
  {
   "cell_type": "markdown",
   "metadata": {},
   "source": [
    "Realizar la modificación en el tipo de datos del data frame `victimas`"
   ]
  },
  {
   "cell_type": "code",
   "execution_count": 57,
   "metadata": {},
   "outputs": [],
   "source": [
    "# Diccionario de conversión\n",
    "conversiones_victimas = {'id_hecho': str,'rol': 'category','vehiculo_victima': 'category','sexo_victima': 'category','gravedad': 'category'}\n",
    "\n",
    "# Aplicar las conversiones \n",
    "victimas = victimas.astype(conversiones_victimas)"
   ]
  },
  {
   "cell_type": "code",
   "execution_count": null,
   "metadata": {},
   "outputs": [],
   "source": [
    "hechos['Victima_fatal'] = hechos['Victima_fatal'].replace({'SI': 1})\n",
    "hechos['Victima_fatal'] = hechos['Victima_fatal'].replace({'NO': 0})\n",
    "\n",
    "#Se crea una nueva columna para victimas no fatales\n",
    "hechos['Victima_no_fatal'] = 1 - hechos['Victima_fatal']"
   ]
  },
  {
   "cell_type": "code",
   "execution_count": 247,
   "metadata": {},
   "outputs": [],
   "source": [
    "victimas['Victima_fatal'] = (victimas['gravedad'] == 'FATAL').astype(int)\n",
    "victimas['Victima_no_fatal'] = 1 - victimas['Victima_fatal']"
   ]
  },
  {
   "cell_type": "code",
   "execution_count": 248,
   "metadata": {},
   "outputs": [],
   "source": [
    "victimas.to_csv('../Data/victimas.csv')"
   ]
  },
  {
   "cell_type": "markdown",
   "metadata": {},
   "source": [
    "##### Guardado de los datos"
   ]
  },
  {
   "cell_type": "code",
   "execution_count": 110,
   "metadata": {},
   "outputs": [],
   "source": [
    "# Guardar el DataFrame 'hechos' en un archivo CSV\n",
    "hechos.to_csv('../Data/hechos.csv', index=False)\n",
    "\n",
    "# Guardar el DataFrame 'victimas' en un archivo CSV\n",
    "victimas.to_csv('../Data/victimas.csv', index=False)"
   ]
  },
  {
   "cell_type": "markdown",
   "metadata": {},
   "source": [
    "### Estructura de los dataframe"
   ]
  },
  {
   "cell_type": "markdown",
   "metadata": {},
   "source": [
    "### Primeras filas del dataframe `hechos`"
   ]
  },
  {
   "cell_type": "code",
   "execution_count": 58,
   "metadata": {},
   "outputs": [
    {
     "data": {
      "text/html": [
       "<div>\n",
       "<style scoped>\n",
       "    .dataframe tbody tr th:only-of-type {\n",
       "        vertical-align: middle;\n",
       "    }\n",
       "\n",
       "    .dataframe tbody tr th {\n",
       "        vertical-align: top;\n",
       "    }\n",
       "\n",
       "    .dataframe thead th {\n",
       "        text-align: right;\n",
       "    }\n",
       "</style>\n",
       "<table border=\"1\" class=\"dataframe\">\n",
       "  <thead>\n",
       "    <tr style=\"text-align: right;\">\n",
       "      <th></th>\n",
       "      <th>id_hecho</th>\n",
       "      <th>n_victimas</th>\n",
       "      <th>fecha</th>\n",
       "      <th>hh</th>\n",
       "      <th>tipo_calle</th>\n",
       "      <th>comuna</th>\n",
       "      <th>longitud</th>\n",
       "      <th>latitud</th>\n",
       "      <th>victima</th>\n",
       "      <th>acusado</th>\n",
       "      <th>gravedad</th>\n",
       "    </tr>\n",
       "  </thead>\n",
       "  <tbody>\n",
       "    <tr>\n",
       "      <th>0</th>\n",
       "      <td>2016-0001</td>\n",
       "      <td>1</td>\n",
       "      <td>2016-01-01</td>\n",
       "      <td>4.0</td>\n",
       "      <td>AVENIDA</td>\n",
       "      <td>8.0</td>\n",
       "      <td>-58.475340</td>\n",
       "      <td>-34.687570</td>\n",
       "      <td>MOTO</td>\n",
       "      <td>AUTO</td>\n",
       "      <td>FATAL</td>\n",
       "    </tr>\n",
       "    <tr>\n",
       "      <th>1</th>\n",
       "      <td>2016-0002</td>\n",
       "      <td>1</td>\n",
       "      <td>2016-01-02</td>\n",
       "      <td>1.0</td>\n",
       "      <td>AVENIDA</td>\n",
       "      <td>9.0</td>\n",
       "      <td>-58.508775</td>\n",
       "      <td>-34.669777</td>\n",
       "      <td>AUTO</td>\n",
       "      <td>PASAJEROS</td>\n",
       "      <td>FATAL</td>\n",
       "    </tr>\n",
       "    <tr>\n",
       "      <th>2</th>\n",
       "      <td>2016-0003</td>\n",
       "      <td>1</td>\n",
       "      <td>2016-01-03</td>\n",
       "      <td>7.0</td>\n",
       "      <td>AVENIDA</td>\n",
       "      <td>1.0</td>\n",
       "      <td>-58.390403</td>\n",
       "      <td>-34.631894</td>\n",
       "      <td>MOTO</td>\n",
       "      <td>AUTO</td>\n",
       "      <td>FATAL</td>\n",
       "    </tr>\n",
       "    <tr>\n",
       "      <th>3</th>\n",
       "      <td>2016-0004</td>\n",
       "      <td>1</td>\n",
       "      <td>2016-01-10</td>\n",
       "      <td>0.0</td>\n",
       "      <td>AVENIDA</td>\n",
       "      <td>8.0</td>\n",
       "      <td>-58.465039</td>\n",
       "      <td>-34.680930</td>\n",
       "      <td>MOTO</td>\n",
       "      <td>NaN</td>\n",
       "      <td>FATAL</td>\n",
       "    </tr>\n",
       "    <tr>\n",
       "      <th>4</th>\n",
       "      <td>2016-0005</td>\n",
       "      <td>1</td>\n",
       "      <td>2016-01-21</td>\n",
       "      <td>5.0</td>\n",
       "      <td>AVENIDA</td>\n",
       "      <td>1.0</td>\n",
       "      <td>-58.387183</td>\n",
       "      <td>-34.622466</td>\n",
       "      <td>MOTO</td>\n",
       "      <td>PASAJEROS</td>\n",
       "      <td>FATAL</td>\n",
       "    </tr>\n",
       "  </tbody>\n",
       "</table>\n",
       "</div>"
      ],
      "text/plain": [
       "    id_hecho  n_victimas       fecha   hh tipo_calle  comuna   longitud  \\\n",
       "0  2016-0001           1  2016-01-01  4.0    AVENIDA     8.0 -58.475340   \n",
       "1  2016-0002           1  2016-01-02  1.0    AVENIDA     9.0 -58.508775   \n",
       "2  2016-0003           1  2016-01-03  7.0    AVENIDA     1.0 -58.390403   \n",
       "3  2016-0004           1  2016-01-10  0.0    AVENIDA     8.0 -58.465039   \n",
       "4  2016-0005           1  2016-01-21  5.0    AVENIDA     1.0 -58.387183   \n",
       "\n",
       "     latitud victima    acusado gravedad  \n",
       "0 -34.687570    MOTO       AUTO    FATAL  \n",
       "1 -34.669777    AUTO  PASAJEROS    FATAL  \n",
       "2 -34.631894    MOTO       AUTO    FATAL  \n",
       "3 -34.680930    MOTO        NaN    FATAL  \n",
       "4 -34.622466    MOTO  PASAJEROS    FATAL  "
      ]
     },
     "execution_count": 58,
     "metadata": {},
     "output_type": "execute_result"
    }
   ],
   "source": [
    "hechos.head()"
   ]
  },
  {
   "cell_type": "markdown",
   "metadata": {},
   "source": [
    "#### Tipo de datos"
   ]
  },
  {
   "cell_type": "code",
   "execution_count": 60,
   "metadata": {},
   "outputs": [
    {
     "data": {
      "text/plain": [
       "id_hecho       object\n",
       "n_victimas      int64\n",
       "fecha          object\n",
       "hh            float64\n",
       "tipo_calle     object\n",
       "comuna        float64\n",
       "longitud      float64\n",
       "latitud       float64\n",
       "victima        object\n",
       "acusado        object\n",
       "gravedad       object\n",
       "dtype: object"
      ]
     },
     "execution_count": 60,
     "metadata": {},
     "output_type": "execute_result"
    }
   ],
   "source": [
    "hechos.dtypes"
   ]
  },
  {
   "cell_type": "markdown",
   "metadata": {},
   "source": [
    "#### Valores nulos"
   ]
  },
  {
   "cell_type": "code",
   "execution_count": 62,
   "metadata": {},
   "outputs": [
    {
     "data": {
      "text/plain": [
       "id_hecho          0\n",
       "n_victimas        0\n",
       "fecha             0\n",
       "hh               10\n",
       "tipo_calle    11045\n",
       "comuna         1459\n",
       "longitud       1483\n",
       "latitud        1483\n",
       "victima       10742\n",
       "acusado       15311\n",
       "gravedad          0\n",
       "dtype: int64"
      ]
     },
     "execution_count": 62,
     "metadata": {},
     "output_type": "execute_result"
    }
   ],
   "source": [
    "hechos.isnull().sum()"
   ]
  },
  {
   "cell_type": "markdown",
   "metadata": {},
   "source": [
    "Las columnas `tipo_calle`, `victima`, `acusado` contienen una cantidad significativa de valores nulos. No obstante, al extraer únicamente en los eventos catalogados con gravedad fatal, se evidenció una reducción considerable en la proporción de valores nulos en estas columnas."
   ]
  },
  {
   "cell_type": "code",
   "execution_count": 64,
   "metadata": {},
   "outputs": [
    {
     "data": {
      "text/plain": [
       "id_hecho       0\n",
       "n_victimas     0\n",
       "fecha          0\n",
       "hh             1\n",
       "tipo_calle     2\n",
       "comuna         4\n",
       "longitud      14\n",
       "latitud       14\n",
       "victima        9\n",
       "acusado       23\n",
       "gravedad       0\n",
       "dtype: int64"
      ]
     },
     "execution_count": 64,
     "metadata": {},
     "output_type": "execute_result"
    }
   ],
   "source": [
    "hechos.loc[hechos['gravedad'] == 'FATAL'].isnull().sum()"
   ]
  },
  {
   "cell_type": "markdown",
   "metadata": {},
   "source": [
    "#### Cantidad de filas y columnas"
   ]
  },
  {
   "cell_type": "code",
   "execution_count": 66,
   "metadata": {},
   "outputs": [
    {
     "data": {
      "text/plain": [
       "(24481, 11)"
      ]
     },
     "execution_count": 66,
     "metadata": {},
     "output_type": "execute_result"
    }
   ],
   "source": [
    "hechos.shape"
   ]
  },
  {
   "cell_type": "markdown",
   "metadata": {},
   "source": [
    "#### Filas duplicadas"
   ]
  },
  {
   "cell_type": "code",
   "execution_count": 67,
   "metadata": {},
   "outputs": [
    {
     "data": {
      "text/plain": [
       "0"
      ]
     },
     "execution_count": 67,
     "metadata": {},
     "output_type": "execute_result"
    }
   ],
   "source": [
    "hechos.duplicated().sum()"
   ]
  },
  {
   "cell_type": "markdown",
   "metadata": {},
   "source": [
    "#### Estadística descriptiva"
   ]
  },
  {
   "cell_type": "code",
   "execution_count": 77,
   "metadata": {},
   "outputs": [
    {
     "data": {
      "text/html": [
       "<div>\n",
       "<style scoped>\n",
       "    .dataframe tbody tr th:only-of-type {\n",
       "        vertical-align: middle;\n",
       "    }\n",
       "\n",
       "    .dataframe tbody tr th {\n",
       "        vertical-align: top;\n",
       "    }\n",
       "\n",
       "    .dataframe thead th {\n",
       "        text-align: right;\n",
       "    }\n",
       "</style>\n",
       "<table border=\"1\" class=\"dataframe\">\n",
       "  <thead>\n",
       "    <tr style=\"text-align: right;\">\n",
       "      <th></th>\n",
       "      <th>n_victimas</th>\n",
       "      <th>hh</th>\n",
       "    </tr>\n",
       "  </thead>\n",
       "  <tbody>\n",
       "    <tr>\n",
       "      <th>count</th>\n",
       "      <td>24481.000000</td>\n",
       "      <td>24471.000000</td>\n",
       "    </tr>\n",
       "    <tr>\n",
       "      <th>mean</th>\n",
       "      <td>1.156856</td>\n",
       "      <td>13.555556</td>\n",
       "    </tr>\n",
       "    <tr>\n",
       "      <th>std</th>\n",
       "      <td>0.544944</td>\n",
       "      <td>5.596032</td>\n",
       "    </tr>\n",
       "    <tr>\n",
       "      <th>min</th>\n",
       "      <td>0.000000</td>\n",
       "      <td>0.000000</td>\n",
       "    </tr>\n",
       "    <tr>\n",
       "      <th>25%</th>\n",
       "      <td>1.000000</td>\n",
       "      <td>10.000000</td>\n",
       "    </tr>\n",
       "    <tr>\n",
       "      <th>50%</th>\n",
       "      <td>1.000000</td>\n",
       "      <td>14.000000</td>\n",
       "    </tr>\n",
       "    <tr>\n",
       "      <th>75%</th>\n",
       "      <td>1.000000</td>\n",
       "      <td>18.000000</td>\n",
       "    </tr>\n",
       "    <tr>\n",
       "      <th>max</th>\n",
       "      <td>16.000000</td>\n",
       "      <td>23.000000</td>\n",
       "    </tr>\n",
       "  </tbody>\n",
       "</table>\n",
       "</div>"
      ],
      "text/plain": [
       "         n_victimas            hh\n",
       "count  24481.000000  24471.000000\n",
       "mean       1.156856     13.555556\n",
       "std        0.544944      5.596032\n",
       "min        0.000000      0.000000\n",
       "25%        1.000000     10.000000\n",
       "50%        1.000000     14.000000\n",
       "75%        1.000000     18.000000\n",
       "max       16.000000     23.000000"
      ]
     },
     "execution_count": 77,
     "metadata": {},
     "output_type": "execute_result"
    }
   ],
   "source": [
    "hechos.drop(columns=['comuna','longitud','latitud']).describe()"
   ]
  },
  {
   "cell_type": "markdown",
   "metadata": {},
   "source": [
    "Para la columna `n_victimas`, se observan un total de 24,481 registros válidos. La cantidad promedio de víctimas por accidente es de aproximadamente 1.16, con una desviación estándar de 0.54, indicando una variabilidad moderada alrededor de la media. La cantidad de víctimas varía desde un mínimo de 0 hasta un máximo de 16, con un 75% de los accidentes reportando una sola víctima.\n",
    "\n",
    "En cuanto a la columna `hh`, se dispone de 24,471 registros. La hora promedio en la que ocurren los accidentes es aproximadamente a las 13:00 . La desviación estándar de 5.60 sugiere cierta variabilidad en las horas de los accidentes. El rango de horas abarca desde las 0:00 hasta las 23:00, con el 25% de los accidentes ocurriendo antes de las 10:00 y el 75% antes de las 18:00."
   ]
  },
  {
   "cell_type": "code",
   "execution_count": 79,
   "metadata": {},
   "outputs": [
    {
     "data": {
      "text/html": [
       "<div>\n",
       "<style scoped>\n",
       "    .dataframe tbody tr th:only-of-type {\n",
       "        vertical-align: middle;\n",
       "    }\n",
       "\n",
       "    .dataframe tbody tr th {\n",
       "        vertical-align: top;\n",
       "    }\n",
       "\n",
       "    .dataframe thead th {\n",
       "        text-align: right;\n",
       "    }\n",
       "</style>\n",
       "<table border=\"1\" class=\"dataframe\">\n",
       "  <thead>\n",
       "    <tr style=\"text-align: right;\">\n",
       "      <th></th>\n",
       "      <th>n_victimas</th>\n",
       "      <th>hh</th>\n",
       "    </tr>\n",
       "  </thead>\n",
       "  <tbody>\n",
       "    <tr>\n",
       "      <th>count</th>\n",
       "      <td>699.000000</td>\n",
       "      <td>698.000000</td>\n",
       "    </tr>\n",
       "    <tr>\n",
       "      <th>mean</th>\n",
       "      <td>1.032904</td>\n",
       "      <td>11.651862</td>\n",
       "    </tr>\n",
       "    <tr>\n",
       "      <th>std</th>\n",
       "      <td>0.193901</td>\n",
       "      <td>6.692723</td>\n",
       "    </tr>\n",
       "    <tr>\n",
       "      <th>min</th>\n",
       "      <td>1.000000</td>\n",
       "      <td>0.000000</td>\n",
       "    </tr>\n",
       "    <tr>\n",
       "      <th>25%</th>\n",
       "      <td>1.000000</td>\n",
       "      <td>6.000000</td>\n",
       "    </tr>\n",
       "    <tr>\n",
       "      <th>50%</th>\n",
       "      <td>1.000000</td>\n",
       "      <td>11.000000</td>\n",
       "    </tr>\n",
       "    <tr>\n",
       "      <th>75%</th>\n",
       "      <td>1.000000</td>\n",
       "      <td>17.000000</td>\n",
       "    </tr>\n",
       "    <tr>\n",
       "      <th>max</th>\n",
       "      <td>3.000000</td>\n",
       "      <td>23.000000</td>\n",
       "    </tr>\n",
       "  </tbody>\n",
       "</table>\n",
       "</div>"
      ],
      "text/plain": [
       "       n_victimas          hh\n",
       "count  699.000000  698.000000\n",
       "mean     1.032904   11.651862\n",
       "std      0.193901    6.692723\n",
       "min      1.000000    0.000000\n",
       "25%      1.000000    6.000000\n",
       "50%      1.000000   11.000000\n",
       "75%      1.000000   17.000000\n",
       "max      3.000000   23.000000"
      ]
     },
     "execution_count": 79,
     "metadata": {},
     "output_type": "execute_result"
    }
   ],
   "source": [
    "hechos[hechos['gravedad'] == 'FATAL'].drop(columns=['comuna', 'longitud', 'latitud']).describe()"
   ]
  },
  {
   "cell_type": "markdown",
   "metadata": {},
   "source": [
    "Para los accidentes catalogados como fatales en el dataframe 'hechos', se dispone de 699 registros válidos. En promedio, estos accidentes involucran aproximadamente 1.03 víctimas, con una desviación estándar de 0.19, indicando una variabilidad baja en la cantidad de víctimas por incidente.\n",
    "\n",
    "En relación con la hora de los accidentes fatales, la media es aproximadamente a las 11:00 . La desviación estándar de 6.69 sugiere cierta variabilidad en las horas de estos eventos. El rango de horas abarca desde las 0:00 hasta las 23:00, con el 25% de los accidentes fatales ocurriendo antes de las 6:00 y el 75% antes de las 17:00."
   ]
  },
  {
   "cell_type": "code",
   "execution_count": 80,
   "metadata": {},
   "outputs": [
    {
     "data": {
      "text/html": [
       "<div>\n",
       "<style scoped>\n",
       "    .dataframe tbody tr th:only-of-type {\n",
       "        vertical-align: middle;\n",
       "    }\n",
       "\n",
       "    .dataframe tbody tr th {\n",
       "        vertical-align: top;\n",
       "    }\n",
       "\n",
       "    .dataframe thead th {\n",
       "        text-align: right;\n",
       "    }\n",
       "</style>\n",
       "<table border=\"1\" class=\"dataframe\">\n",
       "  <thead>\n",
       "    <tr style=\"text-align: right;\">\n",
       "      <th></th>\n",
       "      <th>edad_victima</th>\n",
       "    </tr>\n",
       "  </thead>\n",
       "  <tbody>\n",
       "    <tr>\n",
       "      <th>count</th>\n",
       "      <td>23798.000000</td>\n",
       "    </tr>\n",
       "    <tr>\n",
       "      <th>mean</th>\n",
       "      <td>37.851122</td>\n",
       "    </tr>\n",
       "    <tr>\n",
       "      <th>std</th>\n",
       "      <td>15.379793</td>\n",
       "    </tr>\n",
       "    <tr>\n",
       "      <th>min</th>\n",
       "      <td>0.000000</td>\n",
       "    </tr>\n",
       "    <tr>\n",
       "      <th>25%</th>\n",
       "      <td>27.000000</td>\n",
       "    </tr>\n",
       "    <tr>\n",
       "      <th>50%</th>\n",
       "      <td>35.000000</td>\n",
       "    </tr>\n",
       "    <tr>\n",
       "      <th>75%</th>\n",
       "      <td>46.000000</td>\n",
       "    </tr>\n",
       "    <tr>\n",
       "      <th>max</th>\n",
       "      <td>100.000000</td>\n",
       "    </tr>\n",
       "  </tbody>\n",
       "</table>\n",
       "</div>"
      ],
      "text/plain": [
       "       edad_victima\n",
       "count  23798.000000\n",
       "mean      37.851122\n",
       "std       15.379793\n",
       "min        0.000000\n",
       "25%       27.000000\n",
       "50%       35.000000\n",
       "75%       46.000000\n",
       "max      100.000000"
      ]
     },
     "execution_count": 80,
     "metadata": {},
     "output_type": "execute_result"
    }
   ],
   "source": [
    "victimas.describe()"
   ]
  },
  {
   "cell_type": "markdown",
   "metadata": {},
   "source": [
    "### Primeras filas del dataframe `victimas`"
   ]
  },
  {
   "cell_type": "code",
   "execution_count": 81,
   "metadata": {},
   "outputs": [
    {
     "data": {
      "text/html": [
       "<div>\n",
       "<style scoped>\n",
       "    .dataframe tbody tr th:only-of-type {\n",
       "        vertical-align: middle;\n",
       "    }\n",
       "\n",
       "    .dataframe tbody tr th {\n",
       "        vertical-align: top;\n",
       "    }\n",
       "\n",
       "    .dataframe thead th {\n",
       "        text-align: right;\n",
       "    }\n",
       "</style>\n",
       "<table border=\"1\" class=\"dataframe\">\n",
       "  <thead>\n",
       "    <tr style=\"text-align: right;\">\n",
       "      <th></th>\n",
       "      <th>id_hecho</th>\n",
       "      <th>fecha</th>\n",
       "      <th>rol</th>\n",
       "      <th>vehiculo_victima</th>\n",
       "      <th>sexo_victima</th>\n",
       "      <th>edad_victima</th>\n",
       "      <th>gravedad</th>\n",
       "    </tr>\n",
       "  </thead>\n",
       "  <tbody>\n",
       "    <tr>\n",
       "      <th>0</th>\n",
       "      <td>2016-0001</td>\n",
       "      <td>2016-01-01</td>\n",
       "      <td>CONDUCTOR</td>\n",
       "      <td>MOTO</td>\n",
       "      <td>MASCULINO</td>\n",
       "      <td>19.0</td>\n",
       "      <td>FATAL</td>\n",
       "    </tr>\n",
       "    <tr>\n",
       "      <th>1</th>\n",
       "      <td>2016-0002</td>\n",
       "      <td>2016-01-02</td>\n",
       "      <td>CONDUCTOR</td>\n",
       "      <td>AUTO</td>\n",
       "      <td>MASCULINO</td>\n",
       "      <td>70.0</td>\n",
       "      <td>FATAL</td>\n",
       "    </tr>\n",
       "    <tr>\n",
       "      <th>2</th>\n",
       "      <td>2016-0003</td>\n",
       "      <td>2016-01-03</td>\n",
       "      <td>CONDUCTOR</td>\n",
       "      <td>MOTO</td>\n",
       "      <td>MASCULINO</td>\n",
       "      <td>30.0</td>\n",
       "      <td>FATAL</td>\n",
       "    </tr>\n",
       "    <tr>\n",
       "      <th>3</th>\n",
       "      <td>2016-0004</td>\n",
       "      <td>2016-01-10</td>\n",
       "      <td>CONDUCTOR</td>\n",
       "      <td>MOTO</td>\n",
       "      <td>MASCULINO</td>\n",
       "      <td>18.0</td>\n",
       "      <td>FATAL</td>\n",
       "    </tr>\n",
       "    <tr>\n",
       "      <th>4</th>\n",
       "      <td>2016-0005</td>\n",
       "      <td>2016-01-21</td>\n",
       "      <td>CONDUCTOR</td>\n",
       "      <td>MOTO</td>\n",
       "      <td>MASCULINO</td>\n",
       "      <td>29.0</td>\n",
       "      <td>FATAL</td>\n",
       "    </tr>\n",
       "  </tbody>\n",
       "</table>\n",
       "</div>"
      ],
      "text/plain": [
       "    id_hecho       fecha        rol vehiculo_victima sexo_victima  \\\n",
       "0  2016-0001  2016-01-01  CONDUCTOR             MOTO    MASCULINO   \n",
       "1  2016-0002  2016-01-02  CONDUCTOR             AUTO    MASCULINO   \n",
       "2  2016-0003  2016-01-03  CONDUCTOR             MOTO    MASCULINO   \n",
       "3  2016-0004  2016-01-10  CONDUCTOR             MOTO    MASCULINO   \n",
       "4  2016-0005  2016-01-21  CONDUCTOR             MOTO    MASCULINO   \n",
       "\n",
       "   edad_victima gravedad  \n",
       "0          19.0    FATAL  \n",
       "1          70.0    FATAL  \n",
       "2          30.0    FATAL  \n",
       "3          18.0    FATAL  \n",
       "4          29.0    FATAL  "
      ]
     },
     "execution_count": 81,
     "metadata": {},
     "output_type": "execute_result"
    }
   ],
   "source": [
    "victimas.head()"
   ]
  },
  {
   "cell_type": "markdown",
   "metadata": {},
   "source": [
    "#### Tipo de datos"
   ]
  },
  {
   "cell_type": "code",
   "execution_count": 82,
   "metadata": {},
   "outputs": [
    {
     "data": {
      "text/plain": [
       "id_hecho                0\n",
       "fecha                   0\n",
       "rol                 27616\n",
       "vehiculo_victima    16281\n",
       "sexo_victima         2234\n",
       "edad_victima         4524\n",
       "gravedad                0\n",
       "dtype: int64"
      ]
     },
     "execution_count": 82,
     "metadata": {},
     "output_type": "execute_result"
    }
   ],
   "source": [
    "victimas.isnull().sum()"
   ]
  },
  {
   "cell_type": "markdown",
   "metadata": {},
   "source": [
    "Las columnas `rol`, `vehiculo_victima` y `edad_victima`  contienen una cantidad significativa de valores nulos. No obstante, al extraer únicamente en los eventos catalogados con gravedad fatal, se evidenció una reducción considerable en la proporción de valores nulos en estas columnas."
   ]
  },
  {
   "cell_type": "code",
   "execution_count": 83,
   "metadata": {},
   "outputs": [
    {
     "data": {
      "text/plain": [
       "id_hecho             0\n",
       "fecha                0\n",
       "rol                 11\n",
       "vehiculo_victima     9\n",
       "sexo_victima         6\n",
       "edad_victima        53\n",
       "gravedad             0\n",
       "dtype: int64"
      ]
     },
     "execution_count": 83,
     "metadata": {},
     "output_type": "execute_result"
    }
   ],
   "source": [
    "victimas.loc[victimas['gravedad'] == 'FATAL'].isnull().sum()"
   ]
  },
  {
   "cell_type": "markdown",
   "metadata": {},
   "source": [
    "#### Cantidad de filas y columnas"
   ]
  },
  {
   "cell_type": "code",
   "execution_count": 84,
   "metadata": {},
   "outputs": [
    {
     "data": {
      "text/plain": [
       "(28322, 7)"
      ]
     },
     "execution_count": 84,
     "metadata": {},
     "output_type": "execute_result"
    }
   ],
   "source": [
    "victimas.shape"
   ]
  },
  {
   "cell_type": "markdown",
   "metadata": {},
   "source": [
    "#### Filas duplicadas"
   ]
  },
  {
   "cell_type": "code",
   "execution_count": 85,
   "metadata": {},
   "outputs": [
    {
     "data": {
      "text/plain": [
       "631"
      ]
     },
     "execution_count": 85,
     "metadata": {},
     "output_type": "execute_result"
    }
   ],
   "source": [
    "victimas.duplicated().sum()"
   ]
  },
  {
   "cell_type": "markdown",
   "metadata": {},
   "source": [
    "Al contar duplicados se ve que hay 631 filas duplicadas. Para estar seguro de que realmente son o no duplicados, voy a tomar el `id` y analizar la situación"
   ]
  },
  {
   "cell_type": "code",
   "execution_count": 87,
   "metadata": {},
   "outputs": [
    {
     "data": {
      "text/html": [
       "<div>\n",
       "<style scoped>\n",
       "    .dataframe tbody tr th:only-of-type {\n",
       "        vertical-align: middle;\n",
       "    }\n",
       "\n",
       "    .dataframe tbody tr th {\n",
       "        vertical-align: top;\n",
       "    }\n",
       "\n",
       "    .dataframe thead th {\n",
       "        text-align: right;\n",
       "    }\n",
       "</style>\n",
       "<table border=\"1\" class=\"dataframe\">\n",
       "  <thead>\n",
       "    <tr style=\"text-align: right;\">\n",
       "      <th></th>\n",
       "      <th>id_hecho</th>\n",
       "      <th>fecha</th>\n",
       "      <th>rol</th>\n",
       "      <th>vehiculo_victima</th>\n",
       "      <th>sexo_victima</th>\n",
       "      <th>edad_victima</th>\n",
       "      <th>gravedad</th>\n",
       "    </tr>\n",
       "  </thead>\n",
       "  <tbody>\n",
       "    <tr>\n",
       "      <th>795</th>\n",
       "      <td>LC-2019-0006638</td>\n",
       "      <td>2019-01-04</td>\n",
       "      <td>NaN</td>\n",
       "      <td>NaN</td>\n",
       "      <td>MASCULINO</td>\n",
       "      <td>37.0</td>\n",
       "      <td>LEVE</td>\n",
       "    </tr>\n",
       "    <tr>\n",
       "      <th>812</th>\n",
       "      <td>LC-2019-0008238</td>\n",
       "      <td>2019-01-04</td>\n",
       "      <td>NaN</td>\n",
       "      <td>NaN</td>\n",
       "      <td>FEMENINO</td>\n",
       "      <td>69.0</td>\n",
       "      <td>LEVE</td>\n",
       "    </tr>\n",
       "    <tr>\n",
       "      <th>818</th>\n",
       "      <td>LC-2019-0008388</td>\n",
       "      <td>2019-01-04</td>\n",
       "      <td>NaN</td>\n",
       "      <td>NaN</td>\n",
       "      <td>FEMENINO</td>\n",
       "      <td>NaN</td>\n",
       "      <td>LEVE</td>\n",
       "    </tr>\n",
       "    <tr>\n",
       "      <th>833</th>\n",
       "      <td>LC-2019-0008860</td>\n",
       "      <td>2019-01-05</td>\n",
       "      <td>NaN</td>\n",
       "      <td>NaN</td>\n",
       "      <td>MASCULINO</td>\n",
       "      <td>67.0</td>\n",
       "      <td>LEVE</td>\n",
       "    </tr>\n",
       "    <tr>\n",
       "      <th>858</th>\n",
       "      <td>LC-2019-0010436</td>\n",
       "      <td>2019-01-06</td>\n",
       "      <td>NaN</td>\n",
       "      <td>NaN</td>\n",
       "      <td>MASCULINO</td>\n",
       "      <td>12.0</td>\n",
       "      <td>LEVE</td>\n",
       "    </tr>\n",
       "  </tbody>\n",
       "</table>\n",
       "</div>"
      ],
      "text/plain": [
       "            id_hecho       fecha  rol vehiculo_victima sexo_victima  \\\n",
       "795  LC-2019-0006638  2019-01-04  NaN              NaN    MASCULINO   \n",
       "812  LC-2019-0008238  2019-01-04  NaN              NaN     FEMENINO   \n",
       "818  LC-2019-0008388  2019-01-04  NaN              NaN     FEMENINO   \n",
       "833  LC-2019-0008860  2019-01-05  NaN              NaN    MASCULINO   \n",
       "858  LC-2019-0010436  2019-01-06  NaN              NaN    MASCULINO   \n",
       "\n",
       "     edad_victima gravedad  \n",
       "795          37.0     LEVE  \n",
       "812          69.0     LEVE  \n",
       "818           NaN     LEVE  \n",
       "833          67.0     LEVE  \n",
       "858          12.0     LEVE  "
      ]
     },
     "execution_count": 87,
     "metadata": {},
     "output_type": "execute_result"
    }
   ],
   "source": [
    "victimas[victimas.duplicated()].head()"
   ]
  },
  {
   "cell_type": "code",
   "execution_count": 94,
   "metadata": {},
   "outputs": [
    {
     "data": {
      "text/html": [
       "<div>\n",
       "<style scoped>\n",
       "    .dataframe tbody tr th:only-of-type {\n",
       "        vertical-align: middle;\n",
       "    }\n",
       "\n",
       "    .dataframe tbody tr th {\n",
       "        vertical-align: top;\n",
       "    }\n",
       "\n",
       "    .dataframe thead th {\n",
       "        text-align: right;\n",
       "    }\n",
       "</style>\n",
       "<table border=\"1\" class=\"dataframe\">\n",
       "  <thead>\n",
       "    <tr style=\"text-align: right;\">\n",
       "      <th></th>\n",
       "      <th>id_hecho</th>\n",
       "      <th>fecha</th>\n",
       "      <th>rol</th>\n",
       "      <th>vehiculo_victima</th>\n",
       "      <th>sexo_victima</th>\n",
       "      <th>edad_victima</th>\n",
       "      <th>gravedad</th>\n",
       "    </tr>\n",
       "  </thead>\n",
       "  <tbody>\n",
       "    <tr>\n",
       "      <th>794</th>\n",
       "      <td>LC-2019-0006638</td>\n",
       "      <td>2019-01-04</td>\n",
       "      <td>NaN</td>\n",
       "      <td>NaN</td>\n",
       "      <td>MASCULINO</td>\n",
       "      <td>37.0</td>\n",
       "      <td>LEVE</td>\n",
       "    </tr>\n",
       "    <tr>\n",
       "      <th>795</th>\n",
       "      <td>LC-2019-0006638</td>\n",
       "      <td>2019-01-04</td>\n",
       "      <td>NaN</td>\n",
       "      <td>NaN</td>\n",
       "      <td>MASCULINO</td>\n",
       "      <td>37.0</td>\n",
       "      <td>LEVE</td>\n",
       "    </tr>\n",
       "  </tbody>\n",
       "</table>\n",
       "</div>"
      ],
      "text/plain": [
       "            id_hecho       fecha  rol vehiculo_victima sexo_victima  \\\n",
       "794  LC-2019-0006638  2019-01-04  NaN              NaN    MASCULINO   \n",
       "795  LC-2019-0006638  2019-01-04  NaN              NaN    MASCULINO   \n",
       "\n",
       "     edad_victima gravedad  \n",
       "794          37.0     LEVE  \n",
       "795          37.0     LEVE  "
      ]
     },
     "execution_count": 94,
     "metadata": {},
     "output_type": "execute_result"
    }
   ],
   "source": [
    "filas = victimas[victimas['id_hecho'] == 'LC-2019-0006638']\n",
    "filas"
   ]
  },
  {
   "cell_type": "code",
   "execution_count": 92,
   "metadata": {},
   "outputs": [
    {
     "data": {
      "text/html": [
       "<div>\n",
       "<style scoped>\n",
       "    .dataframe tbody tr th:only-of-type {\n",
       "        vertical-align: middle;\n",
       "    }\n",
       "\n",
       "    .dataframe tbody tr th {\n",
       "        vertical-align: top;\n",
       "    }\n",
       "\n",
       "    .dataframe thead th {\n",
       "        text-align: right;\n",
       "    }\n",
       "</style>\n",
       "<table border=\"1\" class=\"dataframe\">\n",
       "  <thead>\n",
       "    <tr style=\"text-align: right;\">\n",
       "      <th></th>\n",
       "      <th>id_hecho</th>\n",
       "      <th>n_victimas</th>\n",
       "      <th>fecha</th>\n",
       "      <th>hh</th>\n",
       "      <th>tipo_calle</th>\n",
       "      <th>comuna</th>\n",
       "      <th>longitud</th>\n",
       "      <th>latitud</th>\n",
       "      <th>victima</th>\n",
       "      <th>acusado</th>\n",
       "      <th>gravedad</th>\n",
       "    </tr>\n",
       "  </thead>\n",
       "  <tbody>\n",
       "    <tr>\n",
       "      <th>759</th>\n",
       "      <td>LC-2019-0006638</td>\n",
       "      <td>2</td>\n",
       "      <td>2019-01-04</td>\n",
       "      <td>9.0</td>\n",
       "      <td>NaN</td>\n",
       "      <td>10.0</td>\n",
       "      <td>-58.496239</td>\n",
       "      <td>-34.636075</td>\n",
       "      <td>MOTO</td>\n",
       "      <td>NaN</td>\n",
       "      <td>LEVE</td>\n",
       "    </tr>\n",
       "  </tbody>\n",
       "</table>\n",
       "</div>"
      ],
      "text/plain": [
       "            id_hecho  n_victimas       fecha   hh tipo_calle  comuna  \\\n",
       "759  LC-2019-0006638           2  2019-01-04  9.0        NaN    10.0   \n",
       "\n",
       "      longitud    latitud victima acusado gravedad  \n",
       "759 -58.496239 -34.636075    MOTO     NaN     LEVE  "
      ]
     },
     "execution_count": 92,
     "metadata": {},
     "output_type": "execute_result"
    }
   ],
   "source": [
    "hechos[hechos['id_hecho'] == 'LC-2019-0006638']"
   ]
  },
  {
   "cell_type": "markdown",
   "metadata": {},
   "source": [
    "La suma de la columna `n_victimas` en el dataframe `hechos` da como resultado solo una fila con respecto al número total de filas en el dataframe `victimas`. Esto significa que no son datos duplicados, sino más bien ante la representación de individuos distintos que comparten similitudes en edad y sexo, y que estuvieron involucrados en el mismo accidente."
   ]
  },
  {
   "cell_type": "markdown",
   "metadata": {},
   "source": [
    "#### Estadística descriptiva"
   ]
  },
  {
   "cell_type": "code",
   "execution_count": 96,
   "metadata": {},
   "outputs": [
    {
     "data": {
      "text/html": [
       "<div>\n",
       "<style scoped>\n",
       "    .dataframe tbody tr th:only-of-type {\n",
       "        vertical-align: middle;\n",
       "    }\n",
       "\n",
       "    .dataframe tbody tr th {\n",
       "        vertical-align: top;\n",
       "    }\n",
       "\n",
       "    .dataframe thead th {\n",
       "        text-align: right;\n",
       "    }\n",
       "</style>\n",
       "<table border=\"1\" class=\"dataframe\">\n",
       "  <thead>\n",
       "    <tr style=\"text-align: right;\">\n",
       "      <th></th>\n",
       "      <th>edad_victima</th>\n",
       "    </tr>\n",
       "  </thead>\n",
       "  <tbody>\n",
       "    <tr>\n",
       "      <th>count</th>\n",
       "      <td>23798.000000</td>\n",
       "    </tr>\n",
       "    <tr>\n",
       "      <th>mean</th>\n",
       "      <td>37.851122</td>\n",
       "    </tr>\n",
       "    <tr>\n",
       "      <th>std</th>\n",
       "      <td>15.379793</td>\n",
       "    </tr>\n",
       "    <tr>\n",
       "      <th>min</th>\n",
       "      <td>0.000000</td>\n",
       "    </tr>\n",
       "    <tr>\n",
       "      <th>25%</th>\n",
       "      <td>27.000000</td>\n",
       "    </tr>\n",
       "    <tr>\n",
       "      <th>50%</th>\n",
       "      <td>35.000000</td>\n",
       "    </tr>\n",
       "    <tr>\n",
       "      <th>75%</th>\n",
       "      <td>46.000000</td>\n",
       "    </tr>\n",
       "    <tr>\n",
       "      <th>max</th>\n",
       "      <td>100.000000</td>\n",
       "    </tr>\n",
       "  </tbody>\n",
       "</table>\n",
       "</div>"
      ],
      "text/plain": [
       "       edad_victima\n",
       "count  23798.000000\n",
       "mean      37.851122\n",
       "std       15.379793\n",
       "min        0.000000\n",
       "25%       27.000000\n",
       "50%       35.000000\n",
       "75%       46.000000\n",
       "max      100.000000"
      ]
     },
     "execution_count": 96,
     "metadata": {},
     "output_type": "execute_result"
    }
   ],
   "source": [
    "victimas.describe()"
   ]
  },
  {
   "cell_type": "markdown",
   "metadata": {},
   "source": [
    "La columna `edad_victima` en el dataframe `victimas` cuenta con 23,798 registros válidos. La edad promedio de las víctimas en accidentes es de aproximadamente 38 años, con una desviación estándar de 15, indicando una variabilidad moderada alrededor de la media.\n",
    "\n",
    "En términos de distribución, la edad mínima registrada es de 0 años. El primer cuartil (25%) muestra que el 25% de las víctimas tienen 27 años o menos, mientras que el segundo cuartil (50%) indica que la mitad de las víctimas tienen 35 años o menos. El tercer cuartil (75%) revela que el 75% de las víctimas tienen 46 años o menos. La edad máxima registrada es de 100 años."
   ]
  },
  {
   "cell_type": "code",
   "execution_count": 98,
   "metadata": {},
   "outputs": [
    {
     "data": {
      "text/html": [
       "<div>\n",
       "<style scoped>\n",
       "    .dataframe tbody tr th:only-of-type {\n",
       "        vertical-align: middle;\n",
       "    }\n",
       "\n",
       "    .dataframe tbody tr th {\n",
       "        vertical-align: top;\n",
       "    }\n",
       "\n",
       "    .dataframe thead th {\n",
       "        text-align: right;\n",
       "    }\n",
       "</style>\n",
       "<table border=\"1\" class=\"dataframe\">\n",
       "  <thead>\n",
       "    <tr style=\"text-align: right;\">\n",
       "      <th></th>\n",
       "      <th>edad_victima</th>\n",
       "    </tr>\n",
       "  </thead>\n",
       "  <tbody>\n",
       "    <tr>\n",
       "      <th>count</th>\n",
       "      <td>664.000000</td>\n",
       "    </tr>\n",
       "    <tr>\n",
       "      <th>mean</th>\n",
       "      <td>42.167169</td>\n",
       "    </tr>\n",
       "    <tr>\n",
       "      <th>std</th>\n",
       "      <td>19.788034</td>\n",
       "    </tr>\n",
       "    <tr>\n",
       "      <th>min</th>\n",
       "      <td>1.000000</td>\n",
       "    </tr>\n",
       "    <tr>\n",
       "      <th>25%</th>\n",
       "      <td>27.000000</td>\n",
       "    </tr>\n",
       "    <tr>\n",
       "      <th>50%</th>\n",
       "      <td>37.000000</td>\n",
       "    </tr>\n",
       "    <tr>\n",
       "      <th>75%</th>\n",
       "      <td>56.250000</td>\n",
       "    </tr>\n",
       "    <tr>\n",
       "      <th>max</th>\n",
       "      <td>95.000000</td>\n",
       "    </tr>\n",
       "  </tbody>\n",
       "</table>\n",
       "</div>"
      ],
      "text/plain": [
       "       edad_victima\n",
       "count    664.000000\n",
       "mean      42.167169\n",
       "std       19.788034\n",
       "min        1.000000\n",
       "25%       27.000000\n",
       "50%       37.000000\n",
       "75%       56.250000\n",
       "max       95.000000"
      ]
     },
     "execution_count": 98,
     "metadata": {},
     "output_type": "execute_result"
    }
   ],
   "source": [
    "victimas[victimas['gravedad']=='FATAL'].describe()"
   ]
  },
  {
   "cell_type": "markdown",
   "metadata": {},
   "source": [
    "Las edades de víctimas fatales tuvieron un total de 664 registros. La edad promedio de estas víctimas es de aproximadamente 42 años, con una desviación estándar de alrededor de 20 años, lo que indica cierta variabilidad en las edades.\n",
    "\n",
    "La edad más joven registrada es de 1 año, mientras que el 25% de las víctimas tienen 27 años o menos. La mediana, que representa el punto medio de las edades, es de 37 años, lo que significa que el 50% de las víctimas tienen esta edad o menos. El 75% de las edades son 56 años o menos, y la edad máxima registrada es de 95 años."
   ]
  },
  {
   "cell_type": "markdown",
   "metadata": {},
   "source": [
    "### Histogramas"
   ]
  },
  {
   "cell_type": "markdown",
   "metadata": {},
   "source": [
    "Visualizar la distribución de las edades de las víctimas, dividiendo la representación en dos filas distintas. En la primera fila, presentamos la distribución de edades considerando todos los datos disponibles. En la segunda fila, nos enfocamos exclusivamente en los accidentes fatales."
   ]
  },
  {
   "cell_type": "code",
   "execution_count": 100,
   "metadata": {},
   "outputs": [
    {
     "data": {
      "image/png": "[encoded data removed]",
      "text/plain": [
       "<Figure size 1500x1000 with 4 Axes>"
      ]
     },
     "metadata": {},
     "output_type": "display_data"
    }
   ],
   "source": [
    "\n",
    "# Crear subconjuntos de datos\n",
    "todos_los_datos = victimas\n",
    "gravedad_fatal = victimas[victimas['gravedad'] == 'FATAL']\n",
    "\n",
    "# Configurar estilo\n",
    "sns.set(style=\"ticks\")\n",
    "\n",
    "\n",
    "# Crear subgráficos 2x2 con anchos relativos\n",
    "fig, axs = plt.subplots(2, 2, figsize=(15, 10), gridspec_kw={'width_ratios': [8, 2]})\n",
    "\n",
    "# Histograma de todas las edades\n",
    "sns.histplot(data=todos_los_datos, x='edad_victima', ax=axs[0, 0],bins= 12)\n",
    "axs[0, 0].set_title('Histograma de Edades',fontsize=18)\n",
    "axs[0, 0].set_xlabel('Edad')\n",
    "axs[0, 0].set_ylabel('Frecuencia')\n",
    "\n",
    "# Boxplot de todas las edades (vertical)\n",
    "sns.boxplot(data=todos_los_datos, y='edad_victima', ax=axs[0, 1])\n",
    "axs[0, 1].set_title('Boxplot de Edades',fontsize=18)\n",
    "axs[0, 1].set_xlabel('Edad')\n",
    "axs[0, 1].set_ylabel('')\n",
    "\n",
    "# Histograma de edades con gravedad fatal\n",
    "sns.histplot(data=gravedad_fatal, x='edad_victima', ax=axs[1, 0],bins= 12)\n",
    "axs[1, 0].set_title('Histograma de Edades (Gravedad Fatal)',fontsize=18)\n",
    "axs[1, 0].set_xlabel('Edad')\n",
    "axs[1, 0].set_ylabel('Frecuencia')\n",
    "\n",
    "# Boxplot de edades con gravedad fatal (vertical)\n",
    "sns.boxplot(data=gravedad_fatal, y='edad_victima', ax=axs[1, 1])\n",
    "axs[1, 1].set_title('Boxplot de Edades (Gravedad Fatal)',fontsize=18)\n",
    "axs[1, 1].set_xlabel('Edad')\n",
    "axs[1, 1].set_ylabel('')\n",
    "\n",
    "# Ajustar el diseño y mostrar el gráfico\n",
    "plt.tight_layout()\n",
    "plt.show()"
   ]
  },
  {
   "cell_type": "markdown",
   "metadata": {},
   "source": [
    "\n",
    "Al analizar los histogramas de edades en accidentes fatales y no fatales, noté una notable similitud en sus distribuciones. Sin embargo, al examinar el boxplot que abarca todos los datos, identifiqué la presencia de valores extremos, los cuales no están presentes en los accidentes de gravedad fatal. Las medianas en ambos casos son parecidas, indicando una tendencia central similar. No obstante, destaco que el rango intercuartílico de los accidentes fatales es más amplio en comparación con los no fatales, sugiriendo una mayor variabilidad en las edades de las víctimas en situaciones de gravedad fatal.\n",
    "\n",
    "Además, es importante señalar que la cantidad de datos relacionados con accidentes no fatales es significativamente mayor que la cantidad de accidentes fatales."
   ]
  },
  {
   "cell_type": "markdown",
   "metadata": {},
   "source": [
    "#### Gráfico de Barras\n",
    "\n",
    "##### Gráfico de Barras de Tipo de Calle\n",
    "Frecuencia en la que ocurren los accidentes dependiendo del tipo de calle."
   ]
  },
  {
   "cell_type": "code",
   "execution_count": 103,
   "metadata": {},
   "outputs": [
    {
     "data": {
      "image/png": "[encoded data removed]",
      "text/plain": [
       "<Figure size 1500x600 with 2 Axes>"
      ]
     },
     "metadata": {},
     "output_type": "display_data"
    }
   ],
   "source": [
    "# Configurar estilo\n",
    "sns.set(style=\"ticks\")\n",
    "\n",
    "# Crear subgráficos\n",
    "fig, axs = plt.subplots(1, 2, figsize=(15, 6))\n",
    "\n",
    "# Gráfico de barras para los accidentes no fatal, ordenado de mayor a menor\n",
    "sns.countplot(x='tipo_calle', data=hechos[hechos['gravedad'] != 'FATAL'], order=hechos['tipo_calle'].value_counts().index, ax=axs[0])\n",
    "axs[0].set_title('Frecuencia de Accidentes por Tipo de Calle', fontsize=18)\n",
    "axs[0].set_xlabel('')\n",
    "axs[0].set_ylabel('Frecuencia')\n",
    "\n",
    "# Agregar etiquetas de porcentaje en cada barra en el primer gráfico\n",
    "total_todos = len(hechos[hechos['gravedad'] != 'fatal'].dropna(subset=['tipo_calle']))\n",
    "for p in axs[0].patches:\n",
    "    height = p.get_height()\n",
    "    axs[0].text(p.get_x() + p.get_width() / 2., height + 0.01, f'{height/total_todos:.2%}', ha=\"center\", va=\"bottom\", fontsize=12)  # Aumentar el tamaño de la fuente\n",
    "\n",
    "# Gráfico de barras filtrando por gravedad fatal y ordenado de mayor a menor\n",
    "sns.countplot(x='tipo_calle', data=hechos[hechos['gravedad'] == 'FATAL'], order=hechos['tipo_calle'].value_counts().index, ax=axs[1])\n",
    "\n",
    "# Agregar etiquetas de porcentaje en cada barra en el segundo gráfico\n",
    "total_fatal = len(hechos[hechos['gravedad'] == 'FATAL'])\n",
    "for p in axs[1].patches:\n",
    "    height = p.get_height()\n",
    "    axs[1].text(p.get_x() + p.get_width() / 2., height + 0.01, f'{height/total_fatal:.2%}', ha=\"center\", va=\"bottom\", fontsize=12)  # Aumentar el tamaño de la fuente\n",
    "\n",
    "axs[1].set_title('Frecuencia de Accidentes Fatales por Tipo de Calle', fontsize=18)\n",
    "axs[1].set_xlabel('')\n",
    "axs[1].set_ylabel('Frecuencia')\n",
    "\n",
    "# Ajustar el diseño y mostrar el gráfico\n",
    "plt.tight_layout()\n",
    "plt.show()"
   ]
  },
  {
   "cell_type": "markdown",
   "metadata": {},
   "source": [
    "La mayoría de accidentes, tanto fatales como no fatales, ocurre mayormente en avenidas, seguido por calles y autopistas en menor medida. En los accidentes fatales, las avenidas destacan significativamente, representando el 70% de los casos. En contraste, en los accidentes no fatales, las avenidas aún mantienen la mayoría, con aproximadamente el 53.18%, seguidas por calles con un 54.42% y autopistas con un 0.33%."
   ]
  },
  {
   "cell_type": "markdown",
   "metadata": {},
   "source": [
    "#### Gráfico de barras de roles en accidentes fatales"
   ]
  },
  {
   "cell_type": "code",
   "execution_count": 105,
   "metadata": {},
   "outputs": [
    {
     "data": {
      "image/png": "[encoded data removed]",
      "text/plain": [
       "<Figure size 1000x600 with 1 Axes>"
      ]
     },
     "metadata": {},
     "output_type": "display_data"
    }
   ],
   "source": [
    "# Configurar estilo\n",
    "sns.set(style=\"ticks\")\n",
    "\n",
    "# Crear gráfico de barras\n",
    "plt.figure(figsize=(10, 6))\n",
    "sns.countplot(x='rol', data=victimas[victimas['gravedad'] == 'FATAL'].dropna(subset=['rol']), order=victimas[victimas['gravedad'] == 'FATAL']['rol'].value_counts().index)\n",
    "\n",
    "# Agregar etiquetas de porcentaje en cada barra\n",
    "total_fatal = len(victimas[victimas['gravedad'] == 'FATAL'].dropna(subset=['rol']))\n",
    "for p in plt.gca().patches:\n",
    "    height = p.get_height()\n",
    "    plt.gca().text(p.get_x() + p.get_width() / 2., height + 0.1, f'{height/total_fatal:.2%}', ha=\"center\")\n",
    "\n",
    "plt.title('Rol de la víctima del accidente fatal')\n",
    "plt.xlabel('')\n",
    "plt.ylabel('Frecuencia')\n",
    "plt.show()"
   ]
  },
  {
   "cell_type": "markdown",
   "metadata": {},
   "source": [
    "Al analizar el rol que desempeñaba la persona víctima del accidente fatal, se ve que en el 46.74% de los casos era el conductor, en el 37.82% era el peatón, en el 11.33% era el pasajero y en el 4.11% de los casos era el ciclista."
   ]
  },
  {
   "cell_type": "markdown",
   "metadata": {},
   "source": [
    "#### Gráfico de Barras de accidentes por comuna"
   ]
  },
  {
   "cell_type": "code",
   "execution_count": 107,
   "metadata": {},
   "outputs": [
    {
     "data": {
      "image/png": "[encoded data removed]",
      "text/plain": [
       "<Figure size 1200x1000 with 2 Axes>"
      ]
     },
     "metadata": {},
     "output_type": "display_data"
    }
   ],
   "source": [
    "# Configurar estilo\n",
    "sns.set(style=\"ticks\")\n",
    "\n",
    "# Crear subgráficos\n",
    "fig, axs = plt.subplots(2, 1, figsize=(12, 10), sharex=False)\n",
    "\n",
    "# Gráfico de barras para gravedad distinta de \"fatal\"\n",
    "sns.countplot(x='comuna', data=hechos[hechos['gravedad'] != 'FATAL'], order=hechos['comuna'].value_counts().index, ax=axs[0] ,palette='colorblind')\n",
    "axs[0].set_title('Frecuencia de accidentes por comuna',fontsize=18)\n",
    "axs[0].set_xlabel('') \n",
    "axs[0].set_ylabel('Frecuencia')\n",
    "\n",
    "# Agregar etiquetas de porcentaje en cada barra en el primer gráfico\n",
    "total_todos = len(hechos[hechos['gravedad'] != 'FATAL'])\n",
    "for p in axs[0].patches:\n",
    "    height = p.get_height()\n",
    "    axs[0].text(p.get_x() + p.get_width() / 2., height + 0.01, f'{height/total_todos:.2%}', ha=\"center\", va=\"bottom\", fontsize=12) \n",
    "\n",
    "# Gráfico de barras para gravedad \"fatal\"\n",
    "sns.countplot(x='comuna', data=hechos[hechos['gravedad'] == 'FATAL'], order=hechos[hechos['gravedad'] == 'FATAL']['comuna'].value_counts().index, ax=axs[1], palette='colorblind') \n",
    "axs[1].set_title('Frecuencia de accidentes fatales por comuna',fontsize=18)\n",
    "axs[1].set_xlabel('')\n",
    "axs[1].set_ylabel('Frecuencia')\n",
    "\n",
    "# Agregar etiquetas de porcentaje en cada barra en el segundo gráfico\n",
    "total_fatal = len(hechos[hechos['gravedad'] == 'FATAL'])\n",
    "for p in axs[1].patches:\n",
    "    height = p.get_height()\n",
    "    axs[1].text(p.get_x() + p.get_width() / 2., height + 0.01, f'{height/total_fatal:.2%}', ha=\"center\", va=\"bottom\", fontsize=12) \n",
    "\n",
    "# Ajustar el diseño y mostrar el gráfico\n",
    "plt.tight_layout()\n",
    "plt.show()\n",
    "\n"
   ]
  },
  {
   "cell_type": "markdown",
   "metadata": {},
   "source": [
    "En el gráfico de barras superior, que ilustra los accidentes no fatales por comuna, se evidencia que la mayoría de estos incidentes se concentran especialmente en las comunas 1, 15 y 4. Por otro lado, en la representación inferior, correspondiente a los accidentes fatales, se observa que las comunas más afectadas son la 1, 4 y 9"
   ]
  }
 ],
 "metadata": {
  "kernelspec": {
   "display_name": "Python 3",
   "language": "python",
   "name": "python3"
  },
  "language_info": {
   "codemirror_mode": {
    "name": "ipython",
    "version": 3
   },
   "file_extension": ".py",
   "mimetype": "text/x-python",
   "name": "python",
   "nbconvert_exporter": "python",
   "pygments_lexer": "ipython3",
   "version": "3.12.0"
  }
 },
 "nbformat": 4,
 "nbformat_minor": 2
}
